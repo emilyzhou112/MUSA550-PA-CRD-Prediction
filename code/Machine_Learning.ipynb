{
  "nbformat": 4,
  "nbformat_minor": 0,
  "metadata": {
    "colab": {
      "provenance": []
    },
    "kernelspec": {
      "name": "python3",
      "display_name": "Python 3"
    },
    "language_info": {
      "name": "python"
    }
  },
  "cells": [
    {
      "cell_type": "markdown",
      "source": [
        "# Running Machine Learning Model"
      ],
      "metadata": {
        "id": "BYHVt-Y-DNpG"
      }
    },
    {
      "cell_type": "code",
      "execution_count": 2,
      "metadata": {
        "colab": {
          "base_uri": "https://localhost:8080/"
        },
        "id": "KhrUHE_tDGSh",
        "outputId": "adbf2cb4-1072-44ca-86ce-7c03add8dd55"
      },
      "outputs": [
        {
          "output_type": "stream",
          "name": "stdout",
          "text": [
            "Mounted at /content/drive\n"
          ]
        }
      ],
      "source": [
        "from google.colab import drive\n",
        "drive.mount('/content/drive')"
      ]
    },
    {
      "cell_type": "code",
      "source": [
        "import numpy as np\n",
        "import pandas as pd\n",
        "import geopandas as gpd\n",
        "import seaborn as sns\n",
        "import matplotlib.pyplot as plt\n",
        "from sklearn.model_selection import train_test_split\n",
        "from sklearn.svm import SVR\n",
        "from sklearn.metrics import mean_squared_error, r2_score,  mean_absolute_error\n",
        "from sklearn.preprocessing import StandardScaler\n",
        "from sklearn.linear_model import LinearRegression\n",
        "from sklearn.ensemble import RandomForestRegressor\n",
        "import tensorflow as tf\n",
        "from scipy.stats import norm\n",
        "import warnings\n",
        "warnings.filterwarnings('ignore')"
      ],
      "metadata": {
        "id": "ayyfTCT1DltC"
      },
      "execution_count": 23,
      "outputs": []
    },
    {
      "cell_type": "code",
      "source": [
        "PA_Final = pd.read_csv('/content/drive/MyDrive/PA_Final.csv')"
      ],
      "metadata": {
        "id": "wIDAGu6eEZWU"
      },
      "execution_count": 4,
      "outputs": []
    },
    {
      "cell_type": "code",
      "source": [
        "PA_Final.columns"
      ],
      "metadata": {
        "colab": {
          "base_uri": "https://localhost:8080/"
        },
        "id": "XuDgKfiREiGu",
        "outputId": "e4d01b7b-05f2-4af2-8523-e751b1cd209d"
      },
      "execution_count": 5,
      "outputs": [
        {
          "output_type": "execute_result",
          "data": {
            "text/plain": [
              "Index(['CountyName', 'LocationName', 'Asthma', 'TotalPopulation',\n",
              "       'TotalPop18plus', 'COP', 'GEOID', 'Smoking', 'Drinking', 'Short_Sleep',\n",
              "       'Physical_Activity', 'neighbor_avg_density', 'minority', 'aging',\n",
              "       'disability', 'forest_total', 'wetland_total', 'Hdensity_total',\n",
              "       'Ldensity_total', 'grasses_total', 'water_total', 'forest_pct',\n",
              "       'Hdensity_pct', 'lst_winter', 'ndvi_fall', 'evi_spring', 'evi_fall',\n",
              "       'savi_fall', 'savi_winter', 'savi_summer', 'savi_spring', 'ndvi_winter',\n",
              "       'lst_summer', 'evi_summer', 'lst_spring', 'lst_fall', 'ndvi_spring',\n",
              "       'ndvi_summer', 'evi_winter'],\n",
              "      dtype='object')"
            ]
          },
          "metadata": {},
          "execution_count": 5
        }
      ]
    },
    {
      "cell_type": "markdown",
      "source": [
        "The COPD exacerbation rate was higher in winter (0.13 exacerbations/person-month) than in spring, summer, and fall (0.11, 0.079, and 0.10 exacerbations/person-month, respectively) (P < 0.001). Summer had the highest proportion of severe exacerbations (40.5%) compared with spring, fall, and winter (32.6%, 34.7%, and 33.1%, respectively) (P = 0.004)."
      ],
      "metadata": {
        "id": "KXr-HjzFGcfi"
      }
    },
    {
      "cell_type": "code",
      "source": [
        "def calculate_seasonal_exacerbations_df(df, total_column, seasonal_rates):\n",
        "    \"\"\"\n",
        "    Apply the seasonal exacerbation calculation to a DataFrame column containing total exacerbations.\n",
        "\n",
        "    :param df: The DataFrame containing the total exacerbations column\n",
        "    :param total_column: The name of the column containing total exacerbations for each tract\n",
        "    :param seasonal_rates: Dictionary with seasonal rates for each season (winter, spring, summer, fall)\n",
        "\n",
        "    :return: The DataFrame with new columns for seasonal exacerbations\n",
        "    \"\"\"\n",
        "    # Normalize the seasonal rates\n",
        "    total_rate = sum(seasonal_rates.values())\n",
        "    normalized_rates = {season: rate / total_rate for season, rate in seasonal_rates.items()}\n",
        "\n",
        "    # Calculate seasonal exacerbations for each row in the DataFrame\n",
        "    for season, rate in normalized_rates.items():\n",
        "        df[f'{season}_count'] = df[total_column] * rate\n",
        "        df[f'{season}_rate'] = df[f'{season}_count'] / df['TotalPopulation'] * 100\n",
        "\n",
        "    return df"
      ],
      "metadata": {
        "id": "4UiwmbfKJclM"
      },
      "execution_count": 6,
      "outputs": []
    },
    {
      "cell_type": "code",
      "source": [
        "seasonal_rates = {\n",
        "    'winter': 0.39,  # Winter rate\n",
        "    'spring': 0.33,  # Spring rate\n",
        "    'summer': 0.237, # Summer rate\n",
        "    'fall': 0.30     # Fall rate\n",
        "}\n",
        "\n",
        "PA_Final[\"COP_People\"] = PA_Final[\"COP\"] / 100 * PA_Final[\"TotalPopulation\"]\n",
        "PA_Final = calculate_seasonal_exacerbations_df(PA_Final, 'COP_People', seasonal_rates)"
      ],
      "metadata": {
        "id": "lr4M0x3pKGoH"
      },
      "execution_count": 7,
      "outputs": []
    },
    {
      "cell_type": "code",
      "source": [
        "PA_Final.columns"
      ],
      "metadata": {
        "colab": {
          "base_uri": "https://localhost:8080/"
        },
        "id": "pzH5ms38KQBS",
        "outputId": "711e1def-bb66-40f3-e02a-d58f47d18a8f"
      },
      "execution_count": 8,
      "outputs": [
        {
          "output_type": "execute_result",
          "data": {
            "text/plain": [
              "Index(['CountyName', 'LocationName', 'Asthma', 'TotalPopulation',\n",
              "       'TotalPop18plus', 'COP', 'GEOID', 'Smoking', 'Drinking', 'Short_Sleep',\n",
              "       'Physical_Activity', 'neighbor_avg_density', 'minority', 'aging',\n",
              "       'disability', 'forest_total', 'wetland_total', 'Hdensity_total',\n",
              "       'Ldensity_total', 'grasses_total', 'water_total', 'forest_pct',\n",
              "       'Hdensity_pct', 'lst_winter', 'ndvi_fall', 'evi_spring', 'evi_fall',\n",
              "       'savi_fall', 'savi_winter', 'savi_summer', 'savi_spring', 'ndvi_winter',\n",
              "       'lst_summer', 'evi_summer', 'lst_spring', 'lst_fall', 'ndvi_spring',\n",
              "       'ndvi_summer', 'evi_winter', 'COP_People', 'winter_count',\n",
              "       'winter_rate', 'spring_count', 'spring_rate', 'summer_count',\n",
              "       'summer_rate', 'fall_count', 'fall_rate'],\n",
              "      dtype='object')"
            ]
          },
          "metadata": {},
          "execution_count": 8
        }
      ]
    },
    {
      "cell_type": "code",
      "source": [
        "# spring dataframe\n",
        "PA_Spring = PA_Final[['CountyName', 'Asthma', 'TotalPopulation', 'COP', 'GEOID', 'Smoking',\n",
        "                      'Drinking', 'Short_Sleep', 'Physical_Activity', 'neighbor_avg_density',\n",
        "                      'minority', 'aging', 'disability', 'forest_total', 'wetland_total', 'Hdensity_total',\n",
        "                      'Ldensity_total', 'grasses_total', 'water_total', 'forest_pct',  'Hdensity_pct',\n",
        "                      'evi_spring','lst_spring', 'ndvi_spring', 'savi_spring', 'spring_count', \"spring_rate\"]]"
      ],
      "metadata": {
        "id": "BaC5KVW4FeMZ"
      },
      "execution_count": 10,
      "outputs": []
    },
    {
      "cell_type": "code",
      "source": [
        "# summer dataframe\n",
        "PA_Summer = PA_Final[['CountyName', 'Asthma', 'TotalPopulation', 'COP', 'GEOID', 'Smoking',\n",
        "                      'Drinking', 'Short_Sleep', 'Physical_Activity', 'neighbor_avg_density',\n",
        "                      'minority', 'aging', 'disability', 'forest_total', 'wetland_total', 'Hdensity_total',\n",
        "                      'Ldensity_total', 'grasses_total', 'water_total', 'forest_pct',  'Hdensity_pct',\n",
        "                      'evi_summer','lst_summer', 'ndvi_summer', 'savi_summer', 'summer_count', \"summer_rate\"]]"
      ],
      "metadata": {
        "id": "2r_4O73fPpU7"
      },
      "execution_count": 11,
      "outputs": []
    },
    {
      "cell_type": "code",
      "source": [
        "# fall dataframe\n",
        "PA_Fall = PA_Final[['CountyName', 'Asthma', 'TotalPopulation', 'COP', 'GEOID', 'Smoking',\n",
        "                      'Drinking', 'Short_Sleep', 'Physical_Activity', 'neighbor_avg_density',\n",
        "                      'minority', 'aging', 'disability', 'forest_total', 'wetland_total', 'Hdensity_total',\n",
        "                      'Ldensity_total', 'grasses_total', 'water_total', 'forest_pct',  'Hdensity_pct',\n",
        "                      'evi_fall','lst_fall', 'ndvi_fall', 'savi_fall', 'fall_count', \"fall_rate\"]]"
      ],
      "metadata": {
        "id": "zodRThHbPw66"
      },
      "execution_count": 12,
      "outputs": []
    },
    {
      "cell_type": "code",
      "source": [
        "# winter dataframe\n",
        "PA_Winter = PA_Final[['CountyName', 'Asthma', 'TotalPopulation', 'COP', 'GEOID', 'Smoking',\n",
        "                      'Drinking', 'Short_Sleep', 'Physical_Activity', 'neighbor_avg_density',\n",
        "                      'minority', 'aging', 'disability', 'forest_total', 'wetland_total', 'Hdensity_total',\n",
        "                      'Ldensity_total', 'grasses_total', 'water_total', 'forest_pct',  'Hdensity_pct',\n",
        "                      'evi_winter','lst_winter', 'ndvi_winter', 'savi_winter', 'winter_count', \"winter_rate\"]]"
      ],
      "metadata": {
        "id": "D18KtblGUCPG"
      },
      "execution_count": 13,
      "outputs": []
    },
    {
      "cell_type": "markdown",
      "source": [
        "# Exploratory Analysis"
      ],
      "metadata": {
        "id": "YdyVOJRDUP5E"
      }
    },
    {
      "cell_type": "code",
      "source": [
        "sns.histplot(PA_Spring['spring_count'], bins=30, kde=True, color='skyblue')\n",
        "plt.title('Histogram of Spring Rate')\n",
        "plt.xlabel('Spring Rate')\n",
        "plt.ylabel('Frequency')\n",
        "plt.show()\n"
      ],
      "metadata": {
        "colab": {
          "base_uri": "https://localhost:8080/",
          "height": 472
        },
        "id": "pbMSAIhLUPU6",
        "outputId": "33197eb2-1c82-4a6f-fd85-ebc43f0d53eb"
      },
      "execution_count": 25,
      "outputs": [
        {
          "output_type": "display_data",
          "data": {
            "text/plain": [
              "<Figure size 640x480 with 1 Axes>"
            ],
            "image/png": "[encoded data removed]"
          },
          "metadata": {}
        }
      ]
    },
    {
      "cell_type": "markdown",
      "source": [
        "# Dimensionality Reduction"
      ],
      "metadata": {
        "id": "06N0opB5UJ1T"
      }
    },
    {
      "cell_type": "code",
      "source": [
        "# attempt to reduce dimensionality\n",
        "feature_columns  = ['Smoking', 'Drinking', 'Short_Sleep', 'Physical_Activity', 'neighbor_avg_density',\n",
        "                    'minority', 'aging', 'disability', 'forest_total', 'wetland_total', 'Hdensity_total',\n",
        "                    'Ldensity_total', 'grasses_total', 'water_total', 'forest_pct',  'Hdensity_pct',\n",
        "                    'evi_spring','lst_spring', 'ndvi_spring', 'savi_spring']\n",
        "target_column = \"spring_rate\"\n",
        "\n",
        "X = PA_Spring[feature_columns]\n",
        "y = PA_Spring[target_column]"
      ],
      "metadata": {
        "id": "A-LfWAi-E4mQ"
      },
      "execution_count": 14,
      "outputs": []
    },
    {
      "cell_type": "code",
      "source": [
        "def calculate_bic(y_true, y_pred, n, p):\n",
        "    \"\"\"Calculate Bayesian Information Criterion (BIC).\"\"\"\n",
        "    mse = mean_squared_error(y_true, y_pred)\n",
        "    return n * np.log(mse) + p * np.log(n)\n",
        "\n",
        "# Step 1: Fit the full model\n",
        "full_model = LinearRegression().fit(X, y)\n",
        "y_pred_full = full_model.predict(X)\n",
        "n_samples = len(y)\n",
        "p_predictors = X.shape[1]\n",
        "bic_full = calculate_bic(y, y_pred_full, n_samples, p_predictors)\n",
        "\n",
        "# Step 2: Perform backward elimination\n",
        "selected_predictors = list(X.columns)\n",
        "selected_bic = bic_full\n",
        "\n",
        "while True:\n",
        "    best_bic = selected_bic\n",
        "    best_predictors = selected_predictors\n",
        "\n",
        "    for predictor in selected_predictors:\n",
        "        predictors_subset = selected_predictors.copy()\n",
        "        predictors_subset.remove(predictor)\n",
        "        X_subset = X[predictors_subset]\n",
        "        model = LinearRegression().fit(X_subset, y)\n",
        "        y_pred_subset = model.predict(X_subset)\n",
        "        bic = calculate_bic(y, y_pred_subset, n_samples, len(predictors_subset))\n",
        "        if bic < best_bic:\n",
        "            best_bic = bic\n",
        "            best_predictors = predictors_subset\n",
        "\n",
        "    if best_bic < selected_bic:\n",
        "        selected_bic = best_bic\n",
        "        selected_predictors = best_predictors\n",
        "    else:\n",
        "        break\n",
        "\n",
        "# Print the selected predictors and their BIC\n",
        "print(\"Selected predictors:\", selected_predictors)\n",
        "print(\"BIC:\", selected_bic)"
      ],
      "metadata": {
        "colab": {
          "base_uri": "https://localhost:8080/"
        },
        "id": "VE8Mv2CUM9s0",
        "outputId": "1d856116-6233-445f-9474-606711f87be8"
      },
      "execution_count": 28,
      "outputs": [
        {
          "output_type": "stream",
          "name": "stdout",
          "text": [
            "Selected predictors: ['Smoking', 'Drinking', 'Short_Sleep', 'Physical_Activity', 'minority', 'aging', 'disability', 'forest_total', 'Ldensity_total', 'grasses_total', 'forest_pct', 'lst_spring']\n",
            "BIC: -12292.878498899865\n"
          ]
        }
      ]
    },
    {
      "cell_type": "markdown",
      "source": [
        "# Comparing Across Variables"
      ],
      "metadata": {
        "id": "oWiYRDiTc9Ak"
      }
    },
    {
      "cell_type": "code",
      "source": [
        "def split_and_scale_data(X, y, stratify_col, test_size=0.2, random_state=42):\n",
        "    \"\"\"\n",
        "    Splits the data into train and test sets, and applies scaling.\n",
        "\n",
        "    Parameters:\n",
        "        X (DataFrame): Feature matrix.\n",
        "        y (Series): Target variable.\n",
        "        stratify_col (Series): Column to stratify by.\n",
        "        test_size (float): Proportion of data to include in the test split.\n",
        "        random_state (int): Seed for reproducibility.\n",
        "\n",
        "    Returns:\n",
        "        X_train_scaled, X_test_scaled, y_train, y_test (arrays): Scaled feature splits and target splits.\n",
        "        scaler (StandardScaler): Fitted scaler for future use.\n",
        "    \"\"\"\n",
        "    # Split the data\n",
        "    X_train, X_test, y_train, y_test = train_test_split(\n",
        "        X, y, test_size=test_size, random_state=random_state, stratify=stratify_col\n",
        "    )\n",
        "\n",
        "    # Scale the data\n",
        "    scaler = StandardScaler()\n",
        "    X_train_scaled = scaler.fit_transform(X_train)\n",
        "    X_test_scaled = scaler.transform(X_test)\n",
        "\n",
        "    return X_train_scaled, X_test_scaled, y_train, y_test, scaler\n"
      ],
      "metadata": {
        "id": "_OuDFAHFirKz"
      },
      "execution_count": 16,
      "outputs": []
    },
    {
      "cell_type": "code",
      "source": [
        "def train_and_evaluate_rf(X_train, X_test, y_train, y_test, feature_names, n_estimators=100, random_state=42):\n",
        "    \"\"\"\n",
        "    Trains a Random Forest Regressor and evaluates its performance.\n",
        "\n",
        "    Parameters:\n",
        "        X_train, X_test, y_train, y_test (arrays): Train-test split data.\n",
        "        feature_names (list): List of feature names for feature importance.\n",
        "        n_estimators (int): Number of trees in the forest.\n",
        "        random_state (int): Seed for reproducibility.\n",
        "\n",
        "    Returns:\n",
        "        results (dict): Dictionary containing predictions, metrics, and feature importances.\n",
        "    \"\"\"\n",
        "    # Train the Random Forest model\n",
        "    rf_model = RandomForestRegressor(n_estimators=n_estimators, random_state=random_state)\n",
        "    rf_model.fit(X_train, y_train)\n",
        "\n",
        "    # Make predictions\n",
        "    predictions_rf = rf_model.predict(X_test)\n",
        "\n",
        "    # Calculate metrics\n",
        "    mse_rf = mean_squared_error(y_test, predictions_rf)\n",
        "    rmse_rf = np.sqrt(mse_rf)\n",
        "    r2_rf = r2_score(y_test, predictions_rf)\n",
        "    mae_rf = mean_absolute_error(y_test, predictions_rf)\n",
        "\n",
        "    # Compute feature importances\n",
        "    feature_importances = rf_model.feature_importances_\n",
        "    importance_df = pd.DataFrame({\n",
        "        'Feature': feature_names,\n",
        "        'Importance': feature_importances\n",
        "    }).sort_values(by='Importance', ascending=False)\n",
        "\n",
        "    return {\n",
        "        'predictions': predictions_rf,\n",
        "        'rmse': rmse_rf,\n",
        "        'r2': r2_rf,\n",
        "        'importance_df': importance_df\n",
        "    }\n"
      ],
      "metadata": {
        "id": "U4JiCh61ivV_"
      },
      "execution_count": 17,
      "outputs": []
    },
    {
      "cell_type": "code",
      "source": [
        "def extract_results(results, method_name):\n",
        "    \"\"\"\n",
        "    Extract r2, rmse, and top 5 feature importances from the result of a Random Forest model.\n",
        "\n",
        "    Parameters:\n",
        "        results (dict): Result from the train_and_evaluate_rf function.\n",
        "        method_name (str): Identifier for the method used (e.g., \"sp_all\", \"sp_bic\", etc.).\n",
        "\n",
        "    Returns:\n",
        "        metrics (list): List containing RMSE and R².\n",
        "        top_features (list): List of top 5 features.\n",
        "    \"\"\"\n",
        "    # Extract metrics\n",
        "    metrics = [results['rmse'], results['r2']]\n",
        "\n",
        "    # Extract top 5 features\n",
        "    top_features = results['importance_df']['Feature'].head(5).tolist()\n",
        "    return metrics, top_features"
      ],
      "metadata": {
        "id": "TF-SbERjR52b"
      },
      "execution_count": 29,
      "outputs": []
    },
    {
      "cell_type": "markdown",
      "source": [
        "## Spring Model"
      ],
      "metadata": {
        "id": "-h11YTMrpbMx"
      }
    },
    {
      "cell_type": "code",
      "source": [
        "# using all variables\n",
        "stratify_col = PA_Spring['CountyName']\n",
        "X_Spring_All = PA_Spring[['Smoking', 'Drinking', 'Short_Sleep', 'Physical_Activity', 'neighbor_avg_density',\n",
        "                    'minority', 'aging', 'disability', 'forest_total', 'wetland_total', 'Hdensity_total',\n",
        "                    'Ldensity_total', 'grasses_total', 'water_total', 'forest_pct',  'Hdensity_pct',\n",
        "                    'evi_spring','lst_spring', 'ndvi_spring', 'savi_spring']]\n",
        "y_Spring = PA_Spring[['spring_count']]\n",
        "X_train_scaled, X_test_scaled, y_train, y_test_sp, scaler = split_and_scale_data(X_Spring_All, y_Spring, stratify_col)\n",
        "spring_result = train_and_evaluate_rf(X_train_scaled, X_test_scaled, y_train, y_test_sp, X_Spring_All.columns)"
      ],
      "metadata": {
        "id": "x3owTACDmWFr"
      },
      "execution_count": 66,
      "outputs": []
    },
    {
      "cell_type": "code",
      "source": [
        "# using all variables after dimensionality reduction\n",
        "X_Spring_BIC = PA_Spring[['Smoking', 'Drinking', 'Short_Sleep', 'Physical_Activity', 'minority', 'aging', 'disability', 'forest_total', 'Ldensity_total', 'grasses_total', 'forest_pct', 'lst_spring']]\n",
        "X_train_scaled, X_test_scaled, y_train, y_test_sp, scaler = split_and_scale_data(X_Spring_BIC, y_Spring, stratify_col)\n",
        "spring_result_BIC = train_and_evaluate_rf(X_train_scaled, X_test_scaled, y_train, y_test_sp, X_Spring_BIC.columns)"
      ],
      "metadata": {
        "id": "QUw7wjCjjKDw"
      },
      "execution_count": 67,
      "outputs": []
    },
    {
      "cell_type": "code",
      "source": [
        "# using all environmental predictors\n",
        "X_Spring_Env = PA_Spring[['forest_total', 'wetland_total', 'Hdensity_total',\n",
        "                    'Ldensity_total', 'grasses_total', 'water_total', 'forest_pct',  'Hdensity_pct',\n",
        "                    'evi_spring','lst_spring', 'ndvi_spring', 'savi_spring']]\n",
        "X_train_scaled, X_test_scaled, y_train, y_test_sp, scaler = split_and_scale_data(X_Spring_Env, y_Spring, stratify_col)\n",
        "spring_result_env = train_and_evaluate_rf(X_train_scaled, X_test_scaled, y_train, y_test_sp, X_Spring_Env.columns)"
      ],
      "metadata": {
        "id": "w5_BSUy4kiEu"
      },
      "execution_count": 70,
      "outputs": []
    },
    {
      "cell_type": "code",
      "source": [
        "# using all socio-behavioral predictors\n",
        "X_Spring_Sol = PA_Spring[['Smoking', 'Drinking', 'Short_Sleep', 'Physical_Activity', 'neighbor_avg_density',\n",
        "                      'minority', 'aging', 'disability']]\n",
        "X_train_scaled, X_test_scaled, y_train, y_test_sp, scaler = split_and_scale_data(X_Spring_Sol, y_Spring, stratify_col)\n",
        "spring_result_sol = train_and_evaluate_rf(X_train_scaled, X_test_scaled, y_train, y_test_sp, X_Spring_Sol.columns)"
      ],
      "metadata": {
        "id": "bBobXYxHdE3N"
      },
      "execution_count": 21,
      "outputs": []
    },
    {
      "cell_type": "markdown",
      "source": [
        "## Summer Model"
      ],
      "metadata": {
        "id": "NmPDpYX4V4lq"
      }
    },
    {
      "cell_type": "code",
      "source": [
        "# using all variables\n",
        "stratify_col = PA_Summer['CountyName']\n",
        "X_Summer_All = PA_Summer[['Smoking', 'Drinking', 'Short_Sleep', 'Physical_Activity', 'neighbor_avg_density',\n",
        "                    'minority', 'aging', 'disability', 'forest_total', 'wetland_total', 'Hdensity_total',\n",
        "                    'Ldensity_total', 'grasses_total', 'water_total', 'forest_pct',  'Hdensity_pct',\n",
        "                    'evi_summer','lst_summer', 'ndvi_summer', 'savi_summer']]\n",
        "y_Summer = PA_Summer[['summer_count']]\n",
        "X_train_scaled, X_test_scaled, y_train, y_test_su, scaler = split_and_scale_data(X_Summer_All, y_Summer, stratify_col)\n",
        "summer_result = train_and_evaluate_rf(X_train_scaled, X_test_scaled, y_train, y_test_su, X_Summer_All.columns)"
      ],
      "metadata": {
        "id": "xF7TmwnUpfM3"
      },
      "execution_count": 71,
      "outputs": []
    },
    {
      "cell_type": "code",
      "source": [
        "# using all variables after dimensionality reduction\n",
        "X_Summer_BIC = PA_Summer[['Smoking', 'Drinking', 'Short_Sleep', 'Physical_Activity', 'minority', 'aging', 'disability', 'forest_total', 'Ldensity_total', 'grasses_total', 'forest_pct', 'lst_summer']]\n",
        "X_train_scaled, X_test_scaled, y_train, y_test_su, scaler = split_and_scale_data(X_Summer_BIC, y_Summer, stratify_col)\n",
        "summer_result_BIC = train_and_evaluate_rf(X_train_scaled, X_test_scaled, y_train, y_test_su, X_Summer_BIC.columns)"
      ],
      "metadata": {
        "id": "z9mGWsXxWNB5"
      },
      "execution_count": 72,
      "outputs": []
    },
    {
      "cell_type": "code",
      "source": [
        "# using only environment variables\n",
        "X_Summer_Env = PA_Summer[['forest_total', 'wetland_total', 'Hdensity_total',\n",
        "                    'Ldensity_total', 'grasses_total', 'water_total', 'forest_pct',  'Hdensity_pct',\n",
        "                    'evi_summer','lst_summer', 'ndvi_summer', 'savi_summer']]\n",
        "X_train_scaled, X_test_scaled, y_train, y_test_su, scaler = split_and_scale_data(X_Summer_Env, y_Summer, stratify_col)\n",
        "summer_result_env = train_and_evaluate_rf(X_train_scaled, X_test_scaled, y_train, y_test_su, X_Summer_Env.columns)"
      ],
      "metadata": {
        "id": "zVQ2kXjUVz9t"
      },
      "execution_count": 73,
      "outputs": []
    },
    {
      "cell_type": "code",
      "source": [
        "# using only social behavorial variables\n",
        "X_Summer_Sol = PA_Summer[['Smoking', 'Drinking', 'Short_Sleep', 'Physical_Activity', 'neighbor_avg_density',\n",
        "                      'minority', 'aging', 'disability']]\n",
        "X_train_scaled, X_test_scaled, y_train, y_test_su, scaler = split_and_scale_data(X_Summer_Sol, y_Summer, stratify_col)\n",
        "summer_result_sol = train_and_evaluate_rf(X_train_scaled, X_test_scaled, y_train, y_test_su, X_Summer_Sol.columns)"
      ],
      "metadata": {
        "id": "zM7XoOVxWaNh"
      },
      "execution_count": 74,
      "outputs": []
    },
    {
      "cell_type": "markdown",
      "source": [
        "# Fall Model"
      ],
      "metadata": {
        "id": "VvIQvAcsWdDu"
      }
    },
    {
      "cell_type": "code",
      "source": [
        "# using all variables\n",
        "stratify_col = PA_Fall['CountyName']\n",
        "X_Fall_All = PA_Fall[['Smoking', 'Drinking', 'Short_Sleep', 'Physical_Activity', 'neighbor_avg_density',\n",
        "                    'minority', 'aging', 'disability', 'forest_total', 'wetland_total', 'Hdensity_total',\n",
        "                    'Ldensity_total', 'grasses_total', 'water_total', 'forest_pct',  'Hdensity_pct',\n",
        "                    'evi_fall','lst_fall', 'ndvi_fall', 'savi_fall']]\n",
        "y_Fall = PA_Fall[['fall_count']]\n",
        "X_train_scaled, X_test_scaled, y_train, y_test_fa, scaler = split_and_scale_data(X_Fall_All, y_Fall, stratify_col)\n",
        "fall_result = train_and_evaluate_rf(X_train_scaled, X_test_scaled, y_train, y_test_fa, X_Fall_All.columns)"
      ],
      "metadata": {
        "id": "ipc8a4GgXRp6"
      },
      "execution_count": 75,
      "outputs": []
    },
    {
      "cell_type": "code",
      "source": [
        "# using all variables after dimensionality reduction\n",
        "X_Fall_BIC = PA_Fall[['Smoking', 'Drinking', 'Short_Sleep', 'Physical_Activity', 'minority', 'aging', 'disability', 'forest_total', 'Ldensity_total', 'grasses_total', 'forest_pct', 'lst_fall']]\n",
        "X_train_scaled, X_test_scaled, y_train, y_test_fa, scaler = split_and_scale_data(X_Fall_BIC, y_Fall, stratify_col)\n",
        "fall_result_BIC = train_and_evaluate_rf(X_train_scaled, X_test_scaled, y_train, y_test_fa, X_Fall_BIC.columns)"
      ],
      "metadata": {
        "id": "58NPHIhMXRwJ"
      },
      "execution_count": 77,
      "outputs": []
    },
    {
      "cell_type": "code",
      "source": [
        "# using only environment variables\n",
        "X_Fall_Env = PA_Fall[['forest_total', 'wetland_total', 'Hdensity_total',\n",
        "                    'Ldensity_total', 'grasses_total', 'water_total', 'forest_pct',  'Hdensity_pct',\n",
        "                    'evi_fall','lst_fall', 'ndvi_fall', 'savi_fall']]\n",
        "X_train_scaled, X_test_scaled, y_train, y_test_fa, scaler = split_and_scale_data(X_Fall_Env, y_Fall, stratify_col)\n",
        "fall_result_env = train_and_evaluate_rf(X_train_scaled, X_test_scaled, y_train, y_test_fa, X_Fall_Env.columns)"
      ],
      "metadata": {
        "id": "XHjEvX_xXR0Y"
      },
      "execution_count": 76,
      "outputs": []
    },
    {
      "cell_type": "code",
      "source": [
        "# using only social behavorial variables\n",
        "X_Fall_Sol = PA_Fall[['Smoking', 'Drinking', 'Short_Sleep', 'Physical_Activity', 'neighbor_avg_density',\n",
        "                      'minority', 'aging', 'disability']]\n",
        "X_train_scaled, X_test_scaled, y_train, y_test_fa, scaler = split_and_scale_data(X_Fall_Sol, y_Fall, stratify_col)\n",
        "fall_result_sol = train_and_evaluate_rf(X_train_scaled, X_test_scaled, y_train, y_test_fa, X_Fall_Sol.columns)"
      ],
      "metadata": {
        "id": "AgmiBW4OXR30"
      },
      "execution_count": 78,
      "outputs": []
    },
    {
      "cell_type": "markdown",
      "source": [
        "## Winter Model"
      ],
      "metadata": {
        "id": "ElAIAEPii1Zx"
      }
    },
    {
      "cell_type": "code",
      "source": [
        "# using all variables\n",
        "stratify_col = PA_Winter['CountyName']\n",
        "X_Winter_All = PA_Winter[['Smoking', 'Drinking', 'Short_Sleep', 'Physical_Activity', 'neighbor_avg_density',\n",
        "                    'minority', 'aging', 'disability', 'forest_total', 'wetland_total', 'Hdensity_total',\n",
        "                    'Ldensity_total', 'grasses_total', 'water_total', 'forest_pct',  'Hdensity_pct',\n",
        "                    'evi_winter','lst_winter', 'ndvi_winter', 'savi_winter']]\n",
        "y_Winter = PA_Winter[['winter_count']]\n",
        "X_train_scaled, X_test_scaled, y_train, y_test_wi, scaler = split_and_scale_data(X_Winter_All, y_Winter, stratify_col)\n",
        "winter_result = train_and_evaluate_rf(X_train_scaled, X_test_scaled, y_train, y_test_wi, X_Winter_All.columns)"
      ],
      "metadata": {
        "id": "v0Q1HSbEi3ha"
      },
      "execution_count": 79,
      "outputs": []
    },
    {
      "cell_type": "code",
      "source": [
        "# using all variables after dimensionality reduction\n",
        "X_Winter_BIC = PA_Winter[['Smoking', 'Drinking', 'Short_Sleep', 'Physical_Activity', 'minority', 'aging', 'disability', 'forest_total', 'Ldensity_total', 'grasses_total', 'forest_pct', 'lst_winter']]\n",
        "X_train_scaled, X_test_scaled, y_train, y_test_wi, scaler = split_and_scale_data(X_Winter_BIC, y_Winter, stratify_col)\n",
        "winter_result_BIC = train_and_evaluate_rf(X_train_scaled, X_test_scaled, y_train, y_test_wi, X_Winter_BIC.columns)"
      ],
      "metadata": {
        "id": "QRtOvLm9jI2V"
      },
      "execution_count": 80,
      "outputs": []
    },
    {
      "cell_type": "code",
      "source": [
        "# using only environment variables\n",
        "X_Winter_Env = PA_Winter[['forest_total', 'wetland_total', 'Hdensity_total',\n",
        "                    'Ldensity_total', 'grasses_total', 'water_total', 'forest_pct',  'Hdensity_pct',\n",
        "                    'evi_winter','lst_winter', 'ndvi_winter', 'savi_winter']]\n",
        "X_train_scaled, X_test_scaled, y_train, y_test_wi, scaler = split_and_scale_data(X_Winter_Env, y_Winter, stratify_col)\n",
        "winter_result_env = train_and_evaluate_rf(X_train_scaled, X_test_scaled, y_train, y_test_wi, X_Winter_Env.columns)"
      ],
      "metadata": {
        "id": "GAahuZgejJCv"
      },
      "execution_count": 81,
      "outputs": []
    },
    {
      "cell_type": "code",
      "source": [
        "# using only social behavorial variables\n",
        "X_Winter_Sol = PA_Winter[['Smoking', 'Drinking', 'Short_Sleep', 'Physical_Activity', 'neighbor_avg_density',\n",
        "                      'minority', 'aging', 'disability']]\n",
        "X_train_scaled, X_test_scaled, y_train, y_test_wi, scaler = split_and_scale_data(X_Winter_Sol, y_Winter, stratify_col)\n",
        "winter_result_sol = train_and_evaluate_rf(X_train_scaled, X_test_scaled, y_train, y_test_wi, X_Winter_Sol.columns)"
      ],
      "metadata": {
        "id": "d7oFuaNejJJY"
      },
      "execution_count": 82,
      "outputs": []
    },
    {
      "cell_type": "code",
      "source": [
        "methods = ['sp_all', 'sp_bic', 'sp_env', 'sp_sol',\n",
        "           'su_all', 'su_bic', 'su_env', 'su_sol',\n",
        "           'fa_all', 'fa_bic', 'fa_env', 'fa_sol',\n",
        "           'wi_all', 'wi_bic', 'wi_env', 'wi_sol']\n",
        "results = [spring_result, spring_result_BIC, spring_result_env, spring_result_sol,\n",
        "           summer_result, summer_result_BIC, summer_result_env, summer_result_sol,\n",
        "           fall_result, fall_result_BIC, fall_result_env, fall_result_sol,\n",
        "           winter_result, winter_result_BIC, winter_result_env, winter_result_sol\n",
        "           ]\n",
        "\n",
        "metrics_data = {}\n",
        "top_features_data = {}\n",
        "\n",
        "for method, result in zip(methods, results):\n",
        "    metrics, top_features = extract_results(result, method)\n",
        "    metrics_data[method] = metrics\n",
        "    top_features_data[method] = top_features\n",
        "\n",
        "compare_metrics = pd.DataFrame(metrics_data, index=['RMSE', 'R2'])\n",
        "comapre_top_features = pd.DataFrame(top_features_data, index=[f'Feature {i+1}' for i in range(5)])\n"
      ],
      "metadata": {
        "id": "DfX627ZsUixj"
      },
      "execution_count": 83,
      "outputs": []
    },
    {
      "cell_type": "code",
      "source": [
        "compare_metrics"
      ],
      "metadata": {
        "colab": {
          "base_uri": "https://localhost:8080/",
          "height": 145
        },
        "id": "E6_8BMYxVaVW",
        "outputId": "fcdd39e8-fd0a-4b01-b4a2-65e5cac60cfb"
      },
      "execution_count": 84,
      "outputs": [
        {
          "output_type": "execute_result",
          "data": {
            "text/plain": [
              "         sp_all     sp_bic     sp_env     sp_sol     su_all     su_bic  \\\n",
              "RMSE  22.215634  23.125607  25.363977  28.684670  16.041516  17.048896   \n",
              "R2     0.561915   0.525291   0.428948   0.269634   0.557143   0.499776   \n",
              "\n",
              "         su_env     su_sol     fa_all     fa_bic     fa_env     fa_sol  \\\n",
              "RMSE  18.873498  20.608387  20.240806  21.529757  23.914098  26.085645   \n",
              "R2     0.386977   0.269096   0.559970   0.502143   0.385765   0.269148   \n",
              "\n",
              "         wi_all     wi_bic     wi_env     wi_sol  \n",
              "RMSE  26.510291  28.301329  31.487773  33.886914  \n",
              "R2     0.553349   0.490958   0.369879   0.270200  "
            ],
            "text/html": [
              "\n",
              "  <div id=\"df-63ce6693-6ece-4000-802f-b3bce8bf8a04\" class=\"colab-df-container\">\n",
              "    <div>\n",
              "<style scoped>\n",
              "    .dataframe tbody tr th:only-of-type {\n",
              "        vertical-align: middle;\n",
              "    }\n",
              "\n",
              "    .dataframe tbody tr th {\n",
              "        vertical-align: top;\n",
              "    }\n",
              "\n",
              "    .dataframe thead th {\n",
              "        text-align: right;\n",
              "    }\n",
              "</style>\n",
              "<table border=\"1\" class=\"dataframe\">\n",
              "  <thead>\n",
              "    <tr style=\"text-align: right;\">\n",
              "      <th></th>\n",
              "      <th>sp_all</th>\n",
              "      <th>sp_bic</th>\n",
              "      <th>sp_env</th>\n",
              "      <th>sp_sol</th>\n",
              "      <th>su_all</th>\n",
              "      <th>su_bic</th>\n",
              "      <th>su_env</th>\n",
              "      <th>su_sol</th>\n",
              "      <th>fa_all</th>\n",
              "      <th>fa_bic</th>\n",
              "      <th>fa_env</th>\n",
              "      <th>fa_sol</th>\n",
              "      <th>wi_all</th>\n",
              "      <th>wi_bic</th>\n",
              "      <th>wi_env</th>\n",
              "      <th>wi_sol</th>\n",
              "    </tr>\n",
              "  </thead>\n",
              "  <tbody>\n",
              "    <tr>\n",
              "      <th>RMSE</th>\n",
              "      <td>22.215634</td>\n",
              "      <td>23.125607</td>\n",
              "      <td>25.363977</td>\n",
              "      <td>28.684670</td>\n",
              "      <td>16.041516</td>\n",
              "      <td>17.048896</td>\n",
              "      <td>18.873498</td>\n",
              "      <td>20.608387</td>\n",
              "      <td>20.240806</td>\n",
              "      <td>21.529757</td>\n",
              "      <td>23.914098</td>\n",
              "      <td>26.085645</td>\n",
              "      <td>26.510291</td>\n",
              "      <td>28.301329</td>\n",
              "      <td>31.487773</td>\n",
              "      <td>33.886914</td>\n",
              "    </tr>\n",
              "    <tr>\n",
              "      <th>R2</th>\n",
              "      <td>0.561915</td>\n",
              "      <td>0.525291</td>\n",
              "      <td>0.428948</td>\n",
              "      <td>0.269634</td>\n",
              "      <td>0.557143</td>\n",
              "      <td>0.499776</td>\n",
              "      <td>0.386977</td>\n",
              "      <td>0.269096</td>\n",
              "      <td>0.559970</td>\n",
              "      <td>0.502143</td>\n",
              "      <td>0.385765</td>\n",
              "      <td>0.269148</td>\n",
              "      <td>0.553349</td>\n",
              "      <td>0.490958</td>\n",
              "      <td>0.369879</td>\n",
              "      <td>0.270200</td>\n",
              "    </tr>\n",
              "  </tbody>\n",
              "</table>\n",
              "</div>\n",
              "    <div class=\"colab-df-buttons\">\n",
              "\n",
              "  <div class=\"colab-df-container\">\n",
              "    <button class=\"colab-df-convert\" onclick=\"convertToInteractive('df-63ce6693-6ece-4000-802f-b3bce8bf8a04')\"\n",
              "            title=\"Convert this dataframe to an interactive table.\"\n",
              "            style=\"display:none;\">\n",
              "\n",
              "  <svg xmlns=\"http://www.w3.org/2000/svg\" height=\"24px\" viewBox=\"0 -960 960 960\">\n",
              "    <path d=\"M120-120v-720h720v720H120Zm60-500h600v-160H180v160Zm220 220h160v-160H400v160Zm0 220h160v-160H400v160ZM180-400h160v-160H180v160Zm440 0h160v-160H620v160ZM180-180h160v-160H180v160Zm440 0h160v-160H620v160Z\"/>\n",
              "  </svg>\n",
              "    </button>\n",
              "\n",
              "  <style>\n",
              "    .colab-df-container {\n",
              "      display:flex;\n",
              "      gap: 12px;\n",
              "    }\n",
              "\n",
              "    .colab-df-convert {\n",
              "      background-color: #E8F0FE;\n",
              "      border: none;\n",
              "      border-radius: 50%;\n",
              "      cursor: pointer;\n",
              "      display: none;\n",
              "      fill: #1967D2;\n",
              "      height: 32px;\n",
              "      padding: 0 0 0 0;\n",
              "      width: 32px;\n",
              "    }\n",
              "\n",
              "    .colab-df-convert:hover {\n",
              "      background-color: #E2EBFA;\n",
              "      box-shadow: 0px 1px 2px rgba(60, 64, 67, 0.3), 0px 1px 3px 1px rgba(60, 64, 67, 0.15);\n",
              "      fill: #174EA6;\n",
              "    }\n",
              "\n",
              "    .colab-df-buttons div {\n",
              "      margin-bottom: 4px;\n",
              "    }\n",
              "\n",
              "    [theme=dark] .colab-df-convert {\n",
              "      background-color: #3B4455;\n",
              "      fill: #D2E3FC;\n",
              "    }\n",
              "\n",
              "    [theme=dark] .colab-df-convert:hover {\n",
              "      background-color: #434B5C;\n",
              "      box-shadow: 0px 1px 3px 1px rgba(0, 0, 0, 0.15);\n",
              "      filter: drop-shadow(0px 1px 2px rgba(0, 0, 0, 0.3));\n",
              "      fill: #FFFFFF;\n",
              "    }\n",
              "  </style>\n",
              "\n",
              "    <script>\n",
              "      const buttonEl =\n",
              "        document.querySelector('#df-63ce6693-6ece-4000-802f-b3bce8bf8a04 button.colab-df-convert');\n",
              "      buttonEl.style.display =\n",
              "        google.colab.kernel.accessAllowed ? 'block' : 'none';\n",
              "\n",
              "      async function convertToInteractive(key) {\n",
              "        const element = document.querySelector('#df-63ce6693-6ece-4000-802f-b3bce8bf8a04');\n",
              "        const dataTable =\n",
              "          await google.colab.kernel.invokeFunction('convertToInteractive',\n",
              "                                                    [key], {});\n",
              "        if (!dataTable) return;\n",
              "\n",
              "        const docLinkHtml = 'Like what you see? Visit the ' +\n",
              "          '<a target=\"_blank\" href=https://colab.research.google.com/notebooks/data_table.ipynb>data table notebook</a>'\n",
              "          + ' to learn more about interactive tables.';\n",
              "        element.innerHTML = '';\n",
              "        dataTable['output_type'] = 'display_data';\n",
              "        await google.colab.output.renderOutput(dataTable, element);\n",
              "        const docLink = document.createElement('div');\n",
              "        docLink.innerHTML = docLinkHtml;\n",
              "        element.appendChild(docLink);\n",
              "      }\n",
              "    </script>\n",
              "  </div>\n",
              "\n",
              "\n",
              "<div id=\"df-7534219c-a99b-4760-b611-4b6c1f52b512\">\n",
              "  <button class=\"colab-df-quickchart\" onclick=\"quickchart('df-7534219c-a99b-4760-b611-4b6c1f52b512')\"\n",
              "            title=\"Suggest charts\"\n",
              "            style=\"display:none;\">\n",
              "\n",
              "<svg xmlns=\"http://www.w3.org/2000/svg\" height=\"24px\"viewBox=\"0 0 24 24\"\n",
              "     width=\"24px\">\n",
              "    <g>\n",
              "        <path d=\"M19 3H5c-1.1 0-2 .9-2 2v14c0 1.1.9 2 2 2h14c1.1 0 2-.9 2-2V5c0-1.1-.9-2-2-2zM9 17H7v-7h2v7zm4 0h-2V7h2v10zm4 0h-2v-4h2v4z\"/>\n",
              "    </g>\n",
              "</svg>\n",
              "  </button>\n",
              "\n",
              "<style>\n",
              "  .colab-df-quickchart {\n",
              "      --bg-color: #E8F0FE;\n",
              "      --fill-color: #1967D2;\n",
              "      --hover-bg-color: #E2EBFA;\n",
              "      --hover-fill-color: #174EA6;\n",
              "      --disabled-fill-color: #AAA;\n",
              "      --disabled-bg-color: #DDD;\n",
              "  }\n",
              "\n",
              "  [theme=dark] .colab-df-quickchart {\n",
              "      --bg-color: #3B4455;\n",
              "      --fill-color: #D2E3FC;\n",
              "      --hover-bg-color: #434B5C;\n",
              "      --hover-fill-color: #FFFFFF;\n",
              "      --disabled-bg-color: #3B4455;\n",
              "      --disabled-fill-color: #666;\n",
              "  }\n",
              "\n",
              "  .colab-df-quickchart {\n",
              "    background-color: var(--bg-color);\n",
              "    border: none;\n",
              "    border-radius: 50%;\n",
              "    cursor: pointer;\n",
              "    display: none;\n",
              "    fill: var(--fill-color);\n",
              "    height: 32px;\n",
              "    padding: 0;\n",
              "    width: 32px;\n",
              "  }\n",
              "\n",
              "  .colab-df-quickchart:hover {\n",
              "    background-color: var(--hover-bg-color);\n",
              "    box-shadow: 0 1px 2px rgba(60, 64, 67, 0.3), 0 1px 3px 1px rgba(60, 64, 67, 0.15);\n",
              "    fill: var(--button-hover-fill-color);\n",
              "  }\n",
              "\n",
              "  .colab-df-quickchart-complete:disabled,\n",
              "  .colab-df-quickchart-complete:disabled:hover {\n",
              "    background-color: var(--disabled-bg-color);\n",
              "    fill: var(--disabled-fill-color);\n",
              "    box-shadow: none;\n",
              "  }\n",
              "\n",
              "  .colab-df-spinner {\n",
              "    border: 2px solid var(--fill-color);\n",
              "    border-color: transparent;\n",
              "    border-bottom-color: var(--fill-color);\n",
              "    animation:\n",
              "      spin 1s steps(1) infinite;\n",
              "  }\n",
              "\n",
              "  @keyframes spin {\n",
              "    0% {\n",
              "      border-color: transparent;\n",
              "      border-bottom-color: var(--fill-color);\n",
              "      border-left-color: var(--fill-color);\n",
              "    }\n",
              "    20% {\n",
              "      border-color: transparent;\n",
              "      border-left-color: var(--fill-color);\n",
              "      border-top-color: var(--fill-color);\n",
              "    }\n",
              "    30% {\n",
              "      border-color: transparent;\n",
              "      border-left-color: var(--fill-color);\n",
              "      border-top-color: var(--fill-color);\n",
              "      border-right-color: var(--fill-color);\n",
              "    }\n",
              "    40% {\n",
              "      border-color: transparent;\n",
              "      border-right-color: var(--fill-color);\n",
              "      border-top-color: var(--fill-color);\n",
              "    }\n",
              "    60% {\n",
              "      border-color: transparent;\n",
              "      border-right-color: var(--fill-color);\n",
              "    }\n",
              "    80% {\n",
              "      border-color: transparent;\n",
              "      border-right-color: var(--fill-color);\n",
              "      border-bottom-color: var(--fill-color);\n",
              "    }\n",
              "    90% {\n",
              "      border-color: transparent;\n",
              "      border-bottom-color: var(--fill-color);\n",
              "    }\n",
              "  }\n",
              "</style>\n",
              "\n",
              "  <script>\n",
              "    async function quickchart(key) {\n",
              "      const quickchartButtonEl =\n",
              "        document.querySelector('#' + key + ' button');\n",
              "      quickchartButtonEl.disabled = true;  // To prevent multiple clicks.\n",
              "      quickchartButtonEl.classList.add('colab-df-spinner');\n",
              "      try {\n",
              "        const charts = await google.colab.kernel.invokeFunction(\n",
              "            'suggestCharts', [key], {});\n",
              "      } catch (error) {\n",
              "        console.error('Error during call to suggestCharts:', error);\n",
              "      }\n",
              "      quickchartButtonEl.classList.remove('colab-df-spinner');\n",
              "      quickchartButtonEl.classList.add('colab-df-quickchart-complete');\n",
              "    }\n",
              "    (() => {\n",
              "      let quickchartButtonEl =\n",
              "        document.querySelector('#df-7534219c-a99b-4760-b611-4b6c1f52b512 button');\n",
              "      quickchartButtonEl.style.display =\n",
              "        google.colab.kernel.accessAllowed ? 'block' : 'none';\n",
              "    })();\n",
              "  </script>\n",
              "</div>\n",
              "\n",
              "  <div id=\"id_e53d9c74-f1fd-49a6-b76e-135513c9f070\">\n",
              "    <style>\n",
              "      .colab-df-generate {\n",
              "        background-color: #E8F0FE;\n",
              "        border: none;\n",
              "        border-radius: 50%;\n",
              "        cursor: pointer;\n",
              "        display: none;\n",
              "        fill: #1967D2;\n",
              "        height: 32px;\n",
              "        padding: 0 0 0 0;\n",
              "        width: 32px;\n",
              "      }\n",
              "\n",
              "      .colab-df-generate:hover {\n",
              "        background-color: #E2EBFA;\n",
              "        box-shadow: 0px 1px 2px rgba(60, 64, 67, 0.3), 0px 1px 3px 1px rgba(60, 64, 67, 0.15);\n",
              "        fill: #174EA6;\n",
              "      }\n",
              "\n",
              "      [theme=dark] .colab-df-generate {\n",
              "        background-color: #3B4455;\n",
              "        fill: #D2E3FC;\n",
              "      }\n",
              "\n",
              "      [theme=dark] .colab-df-generate:hover {\n",
              "        background-color: #434B5C;\n",
              "        box-shadow: 0px 1px 3px 1px rgba(0, 0, 0, 0.15);\n",
              "        filter: drop-shadow(0px 1px 2px rgba(0, 0, 0, 0.3));\n",
              "        fill: #FFFFFF;\n",
              "      }\n",
              "    </style>\n",
              "    <button class=\"colab-df-generate\" onclick=\"generateWithVariable('compare_metrics')\"\n",
              "            title=\"Generate code using this dataframe.\"\n",
              "            style=\"display:none;\">\n",
              "\n",
              "  <svg xmlns=\"http://www.w3.org/2000/svg\" height=\"24px\"viewBox=\"0 0 24 24\"\n",
              "       width=\"24px\">\n",
              "    <path d=\"M7,19H8.4L18.45,9,17,7.55,7,17.6ZM5,21V16.75L18.45,3.32a2,2,0,0,1,2.83,0l1.4,1.43a1.91,1.91,0,0,1,.58,1.4,1.91,1.91,0,0,1-.58,1.4L9.25,21ZM18.45,9,17,7.55Zm-12,3A5.31,5.31,0,0,0,4.9,8.1,5.31,5.31,0,0,0,1,6.5,5.31,5.31,0,0,0,4.9,4.9,5.31,5.31,0,0,0,6.5,1,5.31,5.31,0,0,0,8.1,4.9,5.31,5.31,0,0,0,12,6.5,5.46,5.46,0,0,0,6.5,12Z\"/>\n",
              "  </svg>\n",
              "    </button>\n",
              "    <script>\n",
              "      (() => {\n",
              "      const buttonEl =\n",
              "        document.querySelector('#id_e53d9c74-f1fd-49a6-b76e-135513c9f070 button.colab-df-generate');\n",
              "      buttonEl.style.display =\n",
              "        google.colab.kernel.accessAllowed ? 'block' : 'none';\n",
              "\n",
              "      buttonEl.onclick = () => {\n",
              "        google.colab.notebook.generateWithVariable('compare_metrics');\n",
              "      }\n",
              "      })();\n",
              "    </script>\n",
              "  </div>\n",
              "\n",
              "    </div>\n",
              "  </div>\n"
            ],
            "application/vnd.google.colaboratory.intrinsic+json": {
              "type": "dataframe",
              "variable_name": "compare_metrics",
              "summary": "{\n  \"name\": \"compare_metrics\",\n  \"rows\": 2,\n  \"fields\": [\n    {\n      \"column\": \"sp_all\",\n      \"properties\": {\n        \"dtype\": \"number\",\n        \"std\": 15.311491958063504,\n        \"min\": 0.561914884095716,\n        \"max\": 22.2156344713557,\n        \"num_unique_values\": 2,\n        \"samples\": [\n          0.561914884095716,\n          22.2156344713557\n        ],\n        \"semantic_type\": \"\",\n        \"description\": \"\"\n      }\n    },\n    {\n      \"column\": \"sp_bic\",\n      \"properties\": {\n        \"dtype\": \"number\",\n        \"std\": 15.980836802321074,\n        \"min\": 0.525291128483599,\n        \"max\": 23.125607272397147,\n        \"num_unique_values\": 2,\n        \"samples\": [\n          0.525291128483599,\n          23.125607272397147\n        ],\n        \"semantic_type\": \"\",\n        \"description\": \"\"\n      }\n    },\n    {\n      \"column\": \"sp_env\",\n      \"properties\": {\n        \"dtype\": \"number\",\n        \"std\": 17.631728380352673,\n        \"min\": 0.42894785617981424,\n        \"max\": 25.363977259753167,\n        \"num_unique_values\": 2,\n        \"samples\": [\n          0.42894785617981424,\n          25.363977259753167\n        ],\n        \"semantic_type\": \"\",\n        \"description\": \"\"\n      }\n    },\n    {\n      \"column\": \"sp_sol\",\n      \"properties\": {\n        \"dtype\": \"number\",\n        \"std\": 20.09246482574972,\n        \"min\": 0.269633628767597,\n        \"max\": 28.684669886847214,\n        \"num_unique_values\": 2,\n        \"samples\": [\n          0.269633628767597,\n          28.684669886847214\n        ],\n        \"semantic_type\": \"\",\n        \"description\": \"\"\n      }\n    },\n    {\n      \"column\": \"su_all\",\n      \"properties\": {\n        \"dtype\": \"number\",\n        \"std\": 10.949104959897655,\n        \"min\": 0.5571434513106448,\n        \"max\": 16.041516181444432,\n        \"num_unique_values\": 2,\n        \"samples\": [\n          0.5571434513106448,\n          16.041516181444432\n        ],\n        \"semantic_type\": \"\",\n        \"description\": \"\"\n      }\n    },\n    {\n      \"column\": \"su_bic\",\n      \"properties\": {\n        \"dtype\": \"number\",\n        \"std\": 11.701995324123688,\n        \"min\": 0.4997757092134506,\n        \"max\": 17.048896203415712,\n        \"num_unique_values\": 2,\n        \"samples\": [\n          0.4997757092134506,\n          17.048896203415712\n        ],\n        \"semantic_type\": \"\",\n        \"description\": \"\"\n      }\n    },\n    {\n      \"column\": \"su_env\",\n      \"properties\": {\n        \"dtype\": \"number\",\n        \"std\": 13.071944478431583,\n        \"min\": 0.38697662725275217,\n        \"max\": 18.87349779523879,\n        \"num_unique_values\": 2,\n        \"samples\": [\n          0.38697662725275217,\n          18.87349779523879\n        ],\n        \"semantic_type\": \"\",\n        \"description\": \"\"\n      }\n    },\n    {\n      \"column\": \"su_sol\",\n      \"properties\": {\n        \"dtype\": \"number\",\n        \"std\": 14.382050349083505,\n        \"min\": 0.2690961677949858,\n        \"max\": 20.608386826201585,\n        \"num_unique_values\": 2,\n        \"samples\": [\n          0.2690961677949858,\n          20.608386826201585\n        ],\n        \"semantic_type\": \"\",\n        \"description\": \"\"\n      }\n    },\n    {\n      \"column\": \"fa_all\",\n      \"properties\": {\n        \"dtype\": \"number\",\n        \"std\": 13.916452532155864,\n        \"min\": 0.5599702517354885,\n        \"max\": 20.240806162831714,\n        \"num_unique_values\": 2,\n        \"samples\": [\n          0.5599702517354885,\n          20.240806162831714\n        ],\n        \"semantic_type\": \"\",\n        \"description\": \"\"\n      }\n    },\n    {\n      \"column\": \"fa_bic\",\n      \"properties\": {\n        \"dtype\": \"number\",\n        \"std\": 14.868768463320189,\n        \"min\": 0.5021429283715739,\n        \"max\": 21.52975694498435,\n        \"num_unique_values\": 2,\n        \"samples\": [\n          0.5021429283715739,\n          21.52975694498435\n        ],\n        \"semantic_type\": \"\",\n        \"description\": \"\"\n      }\n    },\n    {\n      \"column\": \"fa_env\",\n      \"properties\": {\n        \"dtype\": \"number\",\n        \"std\": 16.637043833753893,\n        \"min\": 0.38576516536900163,\n        \"max\": 23.91409819285943,\n        \"num_unique_values\": 2,\n        \"samples\": [\n          0.38576516536900163,\n          23.91409819285943\n        ],\n        \"semantic_type\": \"\",\n        \"description\": \"\"\n      }\n    },\n    {\n      \"column\": \"fa_sol\",\n      \"properties\": {\n        \"dtype\": \"number\",\n        \"std\": 18.25502002318602,\n        \"min\": 0.2691477729473408,\n        \"max\": 26.085644671129423,\n        \"num_unique_values\": 2,\n        \"samples\": [\n          0.2691477729473408,\n          26.085644671129423\n        ],\n        \"semantic_type\": \"\",\n        \"description\": \"\"\n      }\n    },\n    {\n      \"column\": \"wi_all\",\n      \"properties\": {\n        \"dtype\": \"number\",\n        \"std\": 18.354330105422587,\n        \"min\": 0.5533485827292604,\n        \"max\": 26.51029114609068,\n        \"num_unique_values\": 2,\n        \"samples\": [\n          0.5533485827292604,\n          26.51029114609068\n        ],\n        \"semantic_type\": \"\",\n        \"description\": \"\"\n      }\n    },\n    {\n      \"column\": \"wi_bic\",\n      \"properties\": {\n        \"dtype\": \"number\",\n        \"std\": 19.664901720283382,\n        \"min\": 0.490958275584804,\n        \"max\": 28.30132899114357,\n        \"num_unique_values\": 2,\n        \"samples\": [\n          0.490958275584804,\n          28.30132899114357\n        ],\n        \"semantic_type\": \"\",\n        \"description\": \"\"\n      }\n    },\n    {\n      \"column\": \"wi_env\",\n      \"properties\": {\n        \"dtype\": \"number\",\n        \"std\": 22.003673555476194,\n        \"min\": 0.36987949126980124,\n        \"max\": 31.487773055454458,\n        \"num_unique_values\": 2,\n        \"samples\": [\n          0.36987949126980124,\n          31.487773055454458\n        ],\n        \"semantic_type\": \"\",\n        \"description\": \"\"\n      }\n    },\n    {\n      \"column\": \"wi_sol\",\n      \"properties\": {\n        \"dtype\": \"number\",\n        \"std\": 23.77060653103991,\n        \"min\": 0.27020014939227865,\n        \"max\": 33.88691429142339,\n        \"num_unique_values\": 2,\n        \"samples\": [\n          0.27020014939227865,\n          33.88691429142339\n        ],\n        \"semantic_type\": \"\",\n        \"description\": \"\"\n      }\n    }\n  ]\n}"
            }
          },
          "metadata": {},
          "execution_count": 84
        }
      ]
    },
    {
      "cell_type": "code",
      "source": [
        "comapre_top_features"
      ],
      "metadata": {
        "colab": {
          "base_uri": "https://localhost:8080/",
          "height": 313
        },
        "id": "cilC9LCdVq_H",
        "outputId": "76298105-d943-4b70-9d7b-d0c67fde6f64"
      },
      "execution_count": 64,
      "outputs": [
        {
          "output_type": "execute_result",
          "data": {
            "text/plain": [
              "                         sp_all             sp_bic          sp_env  \\\n",
              "Feature 1        Hdensity_total     Ldensity_total  Hdensity_total   \n",
              "Feature 2        Ldensity_total  Physical_Activity  Ldensity_total   \n",
              "Feature 3     Physical_Activity         lst_spring      lst_spring   \n",
              "Feature 4  neighbor_avg_density       forest_total    Hdensity_pct   \n",
              "Feature 5               Smoking            Smoking     ndvi_spring   \n",
              "\n",
              "                         sp_sol                su_all             su_bic  \\\n",
              "Feature 1     Physical_Activity        Hdensity_total     Ldensity_total   \n",
              "Feature 2  neighbor_avg_density        Ldensity_total  Physical_Activity   \n",
              "Feature 3            disability     Physical_Activity         lst_summer   \n",
              "Feature 4                 aging  neighbor_avg_density            Smoking   \n",
              "Feature 5               Smoking               Smoking           minority   \n",
              "\n",
              "                   su_env                su_sol                fa_all  \\\n",
              "Feature 1  Hdensity_total     Physical_Activity        Hdensity_total   \n",
              "Feature 2  Ldensity_total  neighbor_avg_density        Ldensity_total   \n",
              "Feature 3     ndvi_summer            disability     Physical_Activity   \n",
              "Feature 4      lst_summer                 aging  neighbor_avg_density   \n",
              "Feature 5    Hdensity_pct               Smoking               Smoking   \n",
              "\n",
              "                      fa_bic          fa_env                fa_sol  \\\n",
              "Feature 1     Ldensity_total  Hdensity_total     Physical_Activity   \n",
              "Feature 2  Physical_Activity  Ldensity_total  neighbor_avg_density   \n",
              "Feature 3           lst_fall    Hdensity_pct            disability   \n",
              "Feature 4            Smoking        lst_fall                 aging   \n",
              "Feature 5       forest_total       ndvi_fall               Smoking   \n",
              "\n",
              "                         wi_all             wi_bic          wi_env  \\\n",
              "Feature 1        Hdensity_total     Ldensity_total  Hdensity_total   \n",
              "Feature 2        Ldensity_total  Physical_Activity  Ldensity_total   \n",
              "Feature 3     Physical_Activity       forest_total    Hdensity_pct   \n",
              "Feature 4  neighbor_avg_density            Smoking      lst_winter   \n",
              "Feature 5               Smoking           minority     ndvi_winter   \n",
              "\n",
              "                         wi_sol  \n",
              "Feature 1     Physical_Activity  \n",
              "Feature 2  neighbor_avg_density  \n",
              "Feature 3            disability  \n",
              "Feature 4                 aging  \n",
              "Feature 5               Smoking  "
            ],
            "text/html": [
              "\n",
              "  <div id=\"df-c1ac0acb-9c9e-4d88-9c2a-0fa46ff1ddea\" class=\"colab-df-container\">\n",
              "    <div>\n",
              "<style scoped>\n",
              "    .dataframe tbody tr th:only-of-type {\n",
              "        vertical-align: middle;\n",
              "    }\n",
              "\n",
              "    .dataframe tbody tr th {\n",
              "        vertical-align: top;\n",
              "    }\n",
              "\n",
              "    .dataframe thead th {\n",
              "        text-align: right;\n",
              "    }\n",
              "</style>\n",
              "<table border=\"1\" class=\"dataframe\">\n",
              "  <thead>\n",
              "    <tr style=\"text-align: right;\">\n",
              "      <th></th>\n",
              "      <th>sp_all</th>\n",
              "      <th>sp_bic</th>\n",
              "      <th>sp_env</th>\n",
              "      <th>sp_sol</th>\n",
              "      <th>su_all</th>\n",
              "      <th>su_bic</th>\n",
              "      <th>su_env</th>\n",
              "      <th>su_sol</th>\n",
              "      <th>fa_all</th>\n",
              "      <th>fa_bic</th>\n",
              "      <th>fa_env</th>\n",
              "      <th>fa_sol</th>\n",
              "      <th>wi_all</th>\n",
              "      <th>wi_bic</th>\n",
              "      <th>wi_env</th>\n",
              "      <th>wi_sol</th>\n",
              "    </tr>\n",
              "  </thead>\n",
              "  <tbody>\n",
              "    <tr>\n",
              "      <th>Feature 1</th>\n",
              "      <td>Hdensity_total</td>\n",
              "      <td>Ldensity_total</td>\n",
              "      <td>Hdensity_total</td>\n",
              "      <td>Physical_Activity</td>\n",
              "      <td>Hdensity_total</td>\n",
              "      <td>Ldensity_total</td>\n",
              "      <td>Hdensity_total</td>\n",
              "      <td>Physical_Activity</td>\n",
              "      <td>Hdensity_total</td>\n",
              "      <td>Ldensity_total</td>\n",
              "      <td>Hdensity_total</td>\n",
              "      <td>Physical_Activity</td>\n",
              "      <td>Hdensity_total</td>\n",
              "      <td>Ldensity_total</td>\n",
              "      <td>Hdensity_total</td>\n",
              "      <td>Physical_Activity</td>\n",
              "    </tr>\n",
              "    <tr>\n",
              "      <th>Feature 2</th>\n",
              "      <td>Ldensity_total</td>\n",
              "      <td>Physical_Activity</td>\n",
              "      <td>Ldensity_total</td>\n",
              "      <td>neighbor_avg_density</td>\n",
              "      <td>Ldensity_total</td>\n",
              "      <td>Physical_Activity</td>\n",
              "      <td>Ldensity_total</td>\n",
              "      <td>neighbor_avg_density</td>\n",
              "      <td>Ldensity_total</td>\n",
              "      <td>Physical_Activity</td>\n",
              "      <td>Ldensity_total</td>\n",
              "      <td>neighbor_avg_density</td>\n",
              "      <td>Ldensity_total</td>\n",
              "      <td>Physical_Activity</td>\n",
              "      <td>Ldensity_total</td>\n",
              "      <td>neighbor_avg_density</td>\n",
              "    </tr>\n",
              "    <tr>\n",
              "      <th>Feature 3</th>\n",
              "      <td>Physical_Activity</td>\n",
              "      <td>lst_spring</td>\n",
              "      <td>lst_spring</td>\n",
              "      <td>disability</td>\n",
              "      <td>Physical_Activity</td>\n",
              "      <td>lst_summer</td>\n",
              "      <td>ndvi_summer</td>\n",
              "      <td>disability</td>\n",
              "      <td>Physical_Activity</td>\n",
              "      <td>lst_fall</td>\n",
              "      <td>Hdensity_pct</td>\n",
              "      <td>disability</td>\n",
              "      <td>Physical_Activity</td>\n",
              "      <td>forest_total</td>\n",
              "      <td>Hdensity_pct</td>\n",
              "      <td>disability</td>\n",
              "    </tr>\n",
              "    <tr>\n",
              "      <th>Feature 4</th>\n",
              "      <td>neighbor_avg_density</td>\n",
              "      <td>forest_total</td>\n",
              "      <td>Hdensity_pct</td>\n",
              "      <td>aging</td>\n",
              "      <td>neighbor_avg_density</td>\n",
              "      <td>Smoking</td>\n",
              "      <td>lst_summer</td>\n",
              "      <td>aging</td>\n",
              "      <td>neighbor_avg_density</td>\n",
              "      <td>Smoking</td>\n",
              "      <td>lst_fall</td>\n",
              "      <td>aging</td>\n",
              "      <td>neighbor_avg_density</td>\n",
              "      <td>Smoking</td>\n",
              "      <td>lst_winter</td>\n",
              "      <td>aging</td>\n",
              "    </tr>\n",
              "    <tr>\n",
              "      <th>Feature 5</th>\n",
              "      <td>Smoking</td>\n",
              "      <td>Smoking</td>\n",
              "      <td>ndvi_spring</td>\n",
              "      <td>Smoking</td>\n",
              "      <td>Smoking</td>\n",
              "      <td>minority</td>\n",
              "      <td>Hdensity_pct</td>\n",
              "      <td>Smoking</td>\n",
              "      <td>Smoking</td>\n",
              "      <td>forest_total</td>\n",
              "      <td>ndvi_fall</td>\n",
              "      <td>Smoking</td>\n",
              "      <td>Smoking</td>\n",
              "      <td>minority</td>\n",
              "      <td>ndvi_winter</td>\n",
              "      <td>Smoking</td>\n",
              "    </tr>\n",
              "  </tbody>\n",
              "</table>\n",
              "</div>\n",
              "    <div class=\"colab-df-buttons\">\n",
              "\n",
              "  <div class=\"colab-df-container\">\n",
              "    <button class=\"colab-df-convert\" onclick=\"convertToInteractive('df-c1ac0acb-9c9e-4d88-9c2a-0fa46ff1ddea')\"\n",
              "            title=\"Convert this dataframe to an interactive table.\"\n",
              "            style=\"display:none;\">\n",
              "\n",
              "  <svg xmlns=\"http://www.w3.org/2000/svg\" height=\"24px\" viewBox=\"0 -960 960 960\">\n",
              "    <path d=\"M120-120v-720h720v720H120Zm60-500h600v-160H180v160Zm220 220h160v-160H400v160Zm0 220h160v-160H400v160ZM180-400h160v-160H180v160Zm440 0h160v-160H620v160ZM180-180h160v-160H180v160Zm440 0h160v-160H620v160Z\"/>\n",
              "  </svg>\n",
              "    </button>\n",
              "\n",
              "  <style>\n",
              "    .colab-df-container {\n",
              "      display:flex;\n",
              "      gap: 12px;\n",
              "    }\n",
              "\n",
              "    .colab-df-convert {\n",
              "      background-color: #E8F0FE;\n",
              "      border: none;\n",
              "      border-radius: 50%;\n",
              "      cursor: pointer;\n",
              "      display: none;\n",
              "      fill: #1967D2;\n",
              "      height: 32px;\n",
              "      padding: 0 0 0 0;\n",
              "      width: 32px;\n",
              "    }\n",
              "\n",
              "    .colab-df-convert:hover {\n",
              "      background-color: #E2EBFA;\n",
              "      box-shadow: 0px 1px 2px rgba(60, 64, 67, 0.3), 0px 1px 3px 1px rgba(60, 64, 67, 0.15);\n",
              "      fill: #174EA6;\n",
              "    }\n",
              "\n",
              "    .colab-df-buttons div {\n",
              "      margin-bottom: 4px;\n",
              "    }\n",
              "\n",
              "    [theme=dark] .colab-df-convert {\n",
              "      background-color: #3B4455;\n",
              "      fill: #D2E3FC;\n",
              "    }\n",
              "\n",
              "    [theme=dark] .colab-df-convert:hover {\n",
              "      background-color: #434B5C;\n",
              "      box-shadow: 0px 1px 3px 1px rgba(0, 0, 0, 0.15);\n",
              "      filter: drop-shadow(0px 1px 2px rgba(0, 0, 0, 0.3));\n",
              "      fill: #FFFFFF;\n",
              "    }\n",
              "  </style>\n",
              "\n",
              "    <script>\n",
              "      const buttonEl =\n",
              "        document.querySelector('#df-c1ac0acb-9c9e-4d88-9c2a-0fa46ff1ddea button.colab-df-convert');\n",
              "      buttonEl.style.display =\n",
              "        google.colab.kernel.accessAllowed ? 'block' : 'none';\n",
              "\n",
              "      async function convertToInteractive(key) {\n",
              "        const element = document.querySelector('#df-c1ac0acb-9c9e-4d88-9c2a-0fa46ff1ddea');\n",
              "        const dataTable =\n",
              "          await google.colab.kernel.invokeFunction('convertToInteractive',\n",
              "                                                    [key], {});\n",
              "        if (!dataTable) return;\n",
              "\n",
              "        const docLinkHtml = 'Like what you see? Visit the ' +\n",
              "          '<a target=\"_blank\" href=https://colab.research.google.com/notebooks/data_table.ipynb>data table notebook</a>'\n",
              "          + ' to learn more about interactive tables.';\n",
              "        element.innerHTML = '';\n",
              "        dataTable['output_type'] = 'display_data';\n",
              "        await google.colab.output.renderOutput(dataTable, element);\n",
              "        const docLink = document.createElement('div');\n",
              "        docLink.innerHTML = docLinkHtml;\n",
              "        element.appendChild(docLink);\n",
              "      }\n",
              "    </script>\n",
              "  </div>\n",
              "\n",
              "\n",
              "<div id=\"df-8c32a86b-5646-4feb-92a1-d3ef824e65c9\">\n",
              "  <button class=\"colab-df-quickchart\" onclick=\"quickchart('df-8c32a86b-5646-4feb-92a1-d3ef824e65c9')\"\n",
              "            title=\"Suggest charts\"\n",
              "            style=\"display:none;\">\n",
              "\n",
              "<svg xmlns=\"http://www.w3.org/2000/svg\" height=\"24px\"viewBox=\"0 0 24 24\"\n",
              "     width=\"24px\">\n",
              "    <g>\n",
              "        <path d=\"M19 3H5c-1.1 0-2 .9-2 2v14c0 1.1.9 2 2 2h14c1.1 0 2-.9 2-2V5c0-1.1-.9-2-2-2zM9 17H7v-7h2v7zm4 0h-2V7h2v10zm4 0h-2v-4h2v4z\"/>\n",
              "    </g>\n",
              "</svg>\n",
              "  </button>\n",
              "\n",
              "<style>\n",
              "  .colab-df-quickchart {\n",
              "      --bg-color: #E8F0FE;\n",
              "      --fill-color: #1967D2;\n",
              "      --hover-bg-color: #E2EBFA;\n",
              "      --hover-fill-color: #174EA6;\n",
              "      --disabled-fill-color: #AAA;\n",
              "      --disabled-bg-color: #DDD;\n",
              "  }\n",
              "\n",
              "  [theme=dark] .colab-df-quickchart {\n",
              "      --bg-color: #3B4455;\n",
              "      --fill-color: #D2E3FC;\n",
              "      --hover-bg-color: #434B5C;\n",
              "      --hover-fill-color: #FFFFFF;\n",
              "      --disabled-bg-color: #3B4455;\n",
              "      --disabled-fill-color: #666;\n",
              "  }\n",
              "\n",
              "  .colab-df-quickchart {\n",
              "    background-color: var(--bg-color);\n",
              "    border: none;\n",
              "    border-radius: 50%;\n",
              "    cursor: pointer;\n",
              "    display: none;\n",
              "    fill: var(--fill-color);\n",
              "    height: 32px;\n",
              "    padding: 0;\n",
              "    width: 32px;\n",
              "  }\n",
              "\n",
              "  .colab-df-quickchart:hover {\n",
              "    background-color: var(--hover-bg-color);\n",
              "    box-shadow: 0 1px 2px rgba(60, 64, 67, 0.3), 0 1px 3px 1px rgba(60, 64, 67, 0.15);\n",
              "    fill: var(--button-hover-fill-color);\n",
              "  }\n",
              "\n",
              "  .colab-df-quickchart-complete:disabled,\n",
              "  .colab-df-quickchart-complete:disabled:hover {\n",
              "    background-color: var(--disabled-bg-color);\n",
              "    fill: var(--disabled-fill-color);\n",
              "    box-shadow: none;\n",
              "  }\n",
              "\n",
              "  .colab-df-spinner {\n",
              "    border: 2px solid var(--fill-color);\n",
              "    border-color: transparent;\n",
              "    border-bottom-color: var(--fill-color);\n",
              "    animation:\n",
              "      spin 1s steps(1) infinite;\n",
              "  }\n",
              "\n",
              "  @keyframes spin {\n",
              "    0% {\n",
              "      border-color: transparent;\n",
              "      border-bottom-color: var(--fill-color);\n",
              "      border-left-color: var(--fill-color);\n",
              "    }\n",
              "    20% {\n",
              "      border-color: transparent;\n",
              "      border-left-color: var(--fill-color);\n",
              "      border-top-color: var(--fill-color);\n",
              "    }\n",
              "    30% {\n",
              "      border-color: transparent;\n",
              "      border-left-color: var(--fill-color);\n",
              "      border-top-color: var(--fill-color);\n",
              "      border-right-color: var(--fill-color);\n",
              "    }\n",
              "    40% {\n",
              "      border-color: transparent;\n",
              "      border-right-color: var(--fill-color);\n",
              "      border-top-color: var(--fill-color);\n",
              "    }\n",
              "    60% {\n",
              "      border-color: transparent;\n",
              "      border-right-color: var(--fill-color);\n",
              "    }\n",
              "    80% {\n",
              "      border-color: transparent;\n",
              "      border-right-color: var(--fill-color);\n",
              "      border-bottom-color: var(--fill-color);\n",
              "    }\n",
              "    90% {\n",
              "      border-color: transparent;\n",
              "      border-bottom-color: var(--fill-color);\n",
              "    }\n",
              "  }\n",
              "</style>\n",
              "\n",
              "  <script>\n",
              "    async function quickchart(key) {\n",
              "      const quickchartButtonEl =\n",
              "        document.querySelector('#' + key + ' button');\n",
              "      quickchartButtonEl.disabled = true;  // To prevent multiple clicks.\n",
              "      quickchartButtonEl.classList.add('colab-df-spinner');\n",
              "      try {\n",
              "        const charts = await google.colab.kernel.invokeFunction(\n",
              "            'suggestCharts', [key], {});\n",
              "      } catch (error) {\n",
              "        console.error('Error during call to suggestCharts:', error);\n",
              "      }\n",
              "      quickchartButtonEl.classList.remove('colab-df-spinner');\n",
              "      quickchartButtonEl.classList.add('colab-df-quickchart-complete');\n",
              "    }\n",
              "    (() => {\n",
              "      let quickchartButtonEl =\n",
              "        document.querySelector('#df-8c32a86b-5646-4feb-92a1-d3ef824e65c9 button');\n",
              "      quickchartButtonEl.style.display =\n",
              "        google.colab.kernel.accessAllowed ? 'block' : 'none';\n",
              "    })();\n",
              "  </script>\n",
              "</div>\n",
              "\n",
              "  <div id=\"id_ae120285-5c48-46fc-a367-1c87e6e22c67\">\n",
              "    <style>\n",
              "      .colab-df-generate {\n",
              "        background-color: #E8F0FE;\n",
              "        border: none;\n",
              "        border-radius: 50%;\n",
              "        cursor: pointer;\n",
              "        display: none;\n",
              "        fill: #1967D2;\n",
              "        height: 32px;\n",
              "        padding: 0 0 0 0;\n",
              "        width: 32px;\n",
              "      }\n",
              "\n",
              "      .colab-df-generate:hover {\n",
              "        background-color: #E2EBFA;\n",
              "        box-shadow: 0px 1px 2px rgba(60, 64, 67, 0.3), 0px 1px 3px 1px rgba(60, 64, 67, 0.15);\n",
              "        fill: #174EA6;\n",
              "      }\n",
              "\n",
              "      [theme=dark] .colab-df-generate {\n",
              "        background-color: #3B4455;\n",
              "        fill: #D2E3FC;\n",
              "      }\n",
              "\n",
              "      [theme=dark] .colab-df-generate:hover {\n",
              "        background-color: #434B5C;\n",
              "        box-shadow: 0px 1px 3px 1px rgba(0, 0, 0, 0.15);\n",
              "        filter: drop-shadow(0px 1px 2px rgba(0, 0, 0, 0.3));\n",
              "        fill: #FFFFFF;\n",
              "      }\n",
              "    </style>\n",
              "    <button class=\"colab-df-generate\" onclick=\"generateWithVariable('comapre_top_features')\"\n",
              "            title=\"Generate code using this dataframe.\"\n",
              "            style=\"display:none;\">\n",
              "\n",
              "  <svg xmlns=\"http://www.w3.org/2000/svg\" height=\"24px\"viewBox=\"0 0 24 24\"\n",
              "       width=\"24px\">\n",
              "    <path d=\"M7,19H8.4L18.45,9,17,7.55,7,17.6ZM5,21V16.75L18.45,3.32a2,2,0,0,1,2.83,0l1.4,1.43a1.91,1.91,0,0,1,.58,1.4,1.91,1.91,0,0,1-.58,1.4L9.25,21ZM18.45,9,17,7.55Zm-12,3A5.31,5.31,0,0,0,4.9,8.1,5.31,5.31,0,0,0,1,6.5,5.31,5.31,0,0,0,4.9,4.9,5.31,5.31,0,0,0,6.5,1,5.31,5.31,0,0,0,8.1,4.9,5.31,5.31,0,0,0,12,6.5,5.46,5.46,0,0,0,6.5,12Z\"/>\n",
              "  </svg>\n",
              "    </button>\n",
              "    <script>\n",
              "      (() => {\n",
              "      const buttonEl =\n",
              "        document.querySelector('#id_ae120285-5c48-46fc-a367-1c87e6e22c67 button.colab-df-generate');\n",
              "      buttonEl.style.display =\n",
              "        google.colab.kernel.accessAllowed ? 'block' : 'none';\n",
              "\n",
              "      buttonEl.onclick = () => {\n",
              "        google.colab.notebook.generateWithVariable('comapre_top_features');\n",
              "      }\n",
              "      })();\n",
              "    </script>\n",
              "  </div>\n",
              "\n",
              "    </div>\n",
              "  </div>\n"
            ],
            "application/vnd.google.colaboratory.intrinsic+json": {
              "type": "dataframe",
              "variable_name": "comapre_top_features",
              "summary": "{\n  \"name\": \"comapre_top_features\",\n  \"rows\": 5,\n  \"fields\": [\n    {\n      \"column\": \"sp_all\",\n      \"properties\": {\n        \"dtype\": \"string\",\n        \"num_unique_values\": 5,\n        \"samples\": [\n          \"Ldensity_total\",\n          \"Smoking\",\n          \"Physical_Activity\"\n        ],\n        \"semantic_type\": \"\",\n        \"description\": \"\"\n      }\n    },\n    {\n      \"column\": \"sp_bic\",\n      \"properties\": {\n        \"dtype\": \"string\",\n        \"num_unique_values\": 5,\n        \"samples\": [\n          \"Physical_Activity\",\n          \"Smoking\",\n          \"lst_spring\"\n        ],\n        \"semantic_type\": \"\",\n        \"description\": \"\"\n      }\n    },\n    {\n      \"column\": \"sp_env\",\n      \"properties\": {\n        \"dtype\": \"string\",\n        \"num_unique_values\": 5,\n        \"samples\": [\n          \"Ldensity_total\",\n          \"ndvi_spring\",\n          \"lst_spring\"\n        ],\n        \"semantic_type\": \"\",\n        \"description\": \"\"\n      }\n    },\n    {\n      \"column\": \"sp_sol\",\n      \"properties\": {\n        \"dtype\": \"string\",\n        \"num_unique_values\": 5,\n        \"samples\": [\n          \"neighbor_avg_density\",\n          \"Smoking\",\n          \"disability\"\n        ],\n        \"semantic_type\": \"\",\n        \"description\": \"\"\n      }\n    },\n    {\n      \"column\": \"su_all\",\n      \"properties\": {\n        \"dtype\": \"string\",\n        \"num_unique_values\": 5,\n        \"samples\": [\n          \"Ldensity_total\",\n          \"Smoking\",\n          \"Physical_Activity\"\n        ],\n        \"semantic_type\": \"\",\n        \"description\": \"\"\n      }\n    },\n    {\n      \"column\": \"su_bic\",\n      \"properties\": {\n        \"dtype\": \"string\",\n        \"num_unique_values\": 5,\n        \"samples\": [\n          \"Physical_Activity\",\n          \"minority\",\n          \"lst_summer\"\n        ],\n        \"semantic_type\": \"\",\n        \"description\": \"\"\n      }\n    },\n    {\n      \"column\": \"su_env\",\n      \"properties\": {\n        \"dtype\": \"string\",\n        \"num_unique_values\": 5,\n        \"samples\": [\n          \"Ldensity_total\",\n          \"Hdensity_pct\",\n          \"ndvi_summer\"\n        ],\n        \"semantic_type\": \"\",\n        \"description\": \"\"\n      }\n    },\n    {\n      \"column\": \"su_sol\",\n      \"properties\": {\n        \"dtype\": \"string\",\n        \"num_unique_values\": 5,\n        \"samples\": [\n          \"neighbor_avg_density\",\n          \"Smoking\",\n          \"disability\"\n        ],\n        \"semantic_type\": \"\",\n        \"description\": \"\"\n      }\n    },\n    {\n      \"column\": \"fa_all\",\n      \"properties\": {\n        \"dtype\": \"string\",\n        \"num_unique_values\": 5,\n        \"samples\": [\n          \"Ldensity_total\",\n          \"Smoking\",\n          \"Physical_Activity\"\n        ],\n        \"semantic_type\": \"\",\n        \"description\": \"\"\n      }\n    },\n    {\n      \"column\": \"fa_bic\",\n      \"properties\": {\n        \"dtype\": \"string\",\n        \"num_unique_values\": 5,\n        \"samples\": [\n          \"Physical_Activity\",\n          \"forest_total\",\n          \"lst_fall\"\n        ],\n        \"semantic_type\": \"\",\n        \"description\": \"\"\n      }\n    },\n    {\n      \"column\": \"fa_env\",\n      \"properties\": {\n        \"dtype\": \"string\",\n        \"num_unique_values\": 5,\n        \"samples\": [\n          \"Ldensity_total\",\n          \"ndvi_fall\",\n          \"Hdensity_pct\"\n        ],\n        \"semantic_type\": \"\",\n        \"description\": \"\"\n      }\n    },\n    {\n      \"column\": \"fa_sol\",\n      \"properties\": {\n        \"dtype\": \"string\",\n        \"num_unique_values\": 5,\n        \"samples\": [\n          \"neighbor_avg_density\",\n          \"Smoking\",\n          \"disability\"\n        ],\n        \"semantic_type\": \"\",\n        \"description\": \"\"\n      }\n    },\n    {\n      \"column\": \"wi_all\",\n      \"properties\": {\n        \"dtype\": \"string\",\n        \"num_unique_values\": 5,\n        \"samples\": [\n          \"Ldensity_total\",\n          \"Smoking\",\n          \"Physical_Activity\"\n        ],\n        \"semantic_type\": \"\",\n        \"description\": \"\"\n      }\n    },\n    {\n      \"column\": \"wi_bic\",\n      \"properties\": {\n        \"dtype\": \"string\",\n        \"num_unique_values\": 5,\n        \"samples\": [\n          \"Physical_Activity\",\n          \"minority\",\n          \"forest_total\"\n        ],\n        \"semantic_type\": \"\",\n        \"description\": \"\"\n      }\n    },\n    {\n      \"column\": \"wi_env\",\n      \"properties\": {\n        \"dtype\": \"string\",\n        \"num_unique_values\": 5,\n        \"samples\": [\n          \"Ldensity_total\",\n          \"ndvi_winter\",\n          \"Hdensity_pct\"\n        ],\n        \"semantic_type\": \"\",\n        \"description\": \"\"\n      }\n    },\n    {\n      \"column\": \"wi_sol\",\n      \"properties\": {\n        \"dtype\": \"string\",\n        \"num_unique_values\": 5,\n        \"samples\": [\n          \"neighbor_avg_density\",\n          \"Smoking\",\n          \"disability\"\n        ],\n        \"semantic_type\": \"\",\n        \"description\": \"\"\n      }\n    }\n  ]\n}"
            }
          },
          "metadata": {},
          "execution_count": 64
        }
      ]
    },
    {
      "cell_type": "code",
      "source": [
        "compare_metrics.to_csv('/content/drive/MyDrive/compare_metrics.csv')\n",
        "comapre_top_features.to_csv('/content/drive/MyDrive/comapre_top_features.csv')"
      ],
      "metadata": {
        "id": "tNDiykBVlT6P"
      },
      "execution_count": 65,
      "outputs": []
    },
    {
      "cell_type": "code",
      "source": [
        "# Create a scatter plot\n",
        "plt.scatter(spring_result['predictions'], y_test_sp, alpha=0.7, color='blue', edgecolor='black')\n",
        "plt.title('Scatter Plot of Predictions vs Spring Count')\n",
        "plt.xlabel('Predictions')\n",
        "plt.ylabel('Spring Count')\n",
        "plt.grid(True, linestyle='--', alpha=0.6)\n",
        "plt.show()\n"
      ],
      "metadata": {
        "colab": {
          "base_uri": "https://localhost:8080/",
          "height": 472
        },
        "id": "SBGYFdJ_ngAe",
        "outputId": "93f169cd-60d0-49ff-a16f-c8e42423cb18"
      },
      "execution_count": 89,
      "outputs": [
        {
          "output_type": "display_data",
          "data": {
            "text/plain": [
              "<Figure size 640x480 with 1 Axes>"
            ],
            "image/png": "[encoded data removed]"
          },
          "metadata": {}
        }
      ]
    },
    {
      "cell_type": "markdown",
      "source": [
        "# Comparing Across Different Models"
      ],
      "metadata": {
        "id": "lqpxz7PdlCkG"
      }
    },
    {
      "cell_type": "code",
      "source": [
        "# svm\n",
        "svm_model = SVR()\n",
        "svm_model.fit(X_train_scaled, y_train)\n",
        "predictions_svm = svm_model.predict(X_test_scaled)\n",
        "mse_svm = mean_squared_error(y_test, predictions_svm)\n",
        "rmse_svm = np.sqrt(mse_svm)\n",
        "r2_svm = r2_score(y_test, predictions_svm)\n",
        "print(\"RMSE for SVM Spring:\", rmse_svm)\n",
        "print(\"R-squared for SVM Spring:\", r2_svm)"
      ],
      "metadata": {
        "id": "z-t5JwKpZfM4"
      },
      "execution_count": null,
      "outputs": []
    },
    {
      "cell_type": "code",
      "source": [
        "# deep learning multiple layer perceptron\n",
        "model = tf.keras.Sequential([\n",
        "    tf.keras.layers.Dense(128, activation='relu', input_shape=(X_train_scaled.shape[1],)),\n",
        "    tf.keras.layers.Dropout(0.2),  # Dropout layer with dropout rate of 0.2\n",
        "    tf.keras.layers.Dense(64, activation='relu'),\n",
        "    tf.keras.layers.Dropout(0.2),  # Dropout layer with dropout rate of 0.2\n",
        "    tf.keras.layers.Dense(1)  # Output layer\n",
        "])\n",
        "\n",
        "model.compile(optimizer='adam', loss='mean_squared_error')\n",
        "history = model.fit(X_train_scaled, y_train, epochs=50, batch_size=32, validation_split=0.2)\n",
        "predictions_mlp = model.predict(X_test_scaled)\n",
        "mse_mlp = mean_squared_error(y_test, predictions_mlp)\n",
        "rmse_mlp = np.sqrt(mse_mlp)\n",
        "r2_mlp = r2_score(y_test, predictions_mlp)\n",
        "print(\"R-squared for MLP Spring:\", r2_mlp)\n",
        "print(\"RMSE for MLP Spring:\", rmse_mlp)"
      ],
      "metadata": {
        "id": "GyIn7HpKZu_H"
      },
      "execution_count": null,
      "outputs": []
    }
  ]
}
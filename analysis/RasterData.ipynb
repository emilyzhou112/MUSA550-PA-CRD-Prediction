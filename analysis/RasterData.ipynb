{
 "cells": [
  {
   "cell_type": "markdown",
   "id": "e2e6e2d7-2ca8-4a17-af6e-10b44b7b7b80",
   "metadata": {},
   "source": [
    "---\n",
    "format: \n",
    "  html:\n",
    "    toc: true\n",
    "    page-layout: full\n",
    "execute:\n",
    "    echo: true\n",
    "    eval: false\n",
    "---"
   ]
  },
  {
   "cell_type": "markdown",
   "id": "4ab629b2-d684-4944-8ba1-8dfcab055a7c",
   "metadata": {},
   "source": [
    "# Raster Data and Google Earth Engine "
   ]
  },
  {
   "cell_type": "markdown",
   "id": "4867a151-9948-40f5-aa1a-d0709ce9d3c9",
   "metadata": {},
   "source": [
    "To get remote sensing data, we used the following packages. The **`ee`** package (Earth Engine Python API) facilitates interaction with Google Earth Engine for large-scale geospatial processing. **`geemap`** supports visualization and analysis of Earth Engine data in Python. **`os`** is used for interacting with the file system, and **`requests`** handles HTTP requests to retrieve data from web sources. The **`datetime`** module manages date and time operations, while **`geopandas`** and **`pandas`** are essential for working with spatial and tabular data, respectively, to load and further process downloaded data. \n",
    "\n",
    "<span style=\"color:red\">Note: Since the raster data used in this project are relatively large in size, all operations were conducted on Google Colab, which provides a more seamless environment for interacting with Google Earth Engine and is better at handling the processing of large datasets. The code here are just for demonstration purposes. All file paths have been removed.</span>\n",
    "\n",
    "If you wish to reproduce this study, this project requires authentication with Google Earth Engine (GEE) to access its geospatial data and computational capabilities. To begin, users must authenticate using `ee.Authenticate()` and initialize the connection to their GEE project with `ee.Initialize(project=\"your_project_name\")`. Ensure you have a valid Google Earth Engine account and have created a project within your GEE console. These steps enable the seamless integration of Earth Engine operations within the Python environment.\n",
    "\n",
    "Additionally, users need to establish a connection with your Google Drive to store and manage data files. This is done using the following commands: `from google.colab import drive` then `drive.mount('/content/drive')`"
   ]
  },
  {
   "cell_type": "code",
   "execution_count": null,
   "id": "4a2bf4a5-e6b4-46ed-89a5-55a6bf8223f6",
   "metadata": {},
   "outputs": [],
   "source": [
    "#| echo: false\n",
    "#| eval: true\n",
    "\n",
    "import ee\n",
    "import geemap\n",
    "import os\n",
    "import requests\n",
    "from datetime import datetime\n",
    "import geopandas as gpd\n",
    "import pandas as pd\n",
    "# import cenpy\n",
    "# import pygris\n",
    "import warnings\n",
    "warnings.filterwarnings('ignore')\n",
    "\n",
    "ee.Authenticate()\n",
    "# replace with your own project name\n",
    "ee.Initialize(project=\"gee-emilyzhou0112\") "
   ]
  },
  {
   "cell_type": "markdown",
   "id": "275fb9b0-4439-454c-8d60-a685444d76e9",
   "metadata": {},
   "source": [
    "## Study Area Preparation"
   ]
  },
  {
   "cell_type": "markdown",
   "id": "484ed66b-2c9c-4bcf-80c9-88f0a07e4433",
   "metadata": {},
   "source": [
    "To limit our study area to the state of Pennsylvania, we retrieved the geojson file of all Pennsylvania census tracts from the [Open Data Pennsylvania](https://www.pasda.psu.edu/uci/SearchResults.aspx?originator=U+S+Census+Bureau). Next, the code dissolves the geometries of all features in the GeoDataFrame `pa_tracts` into a single geometry representing the boundary of Pennsylvania. Then, it extracts the exterior coordinates of the dissolved boundary geometry and converts them into a list format suitable for google earth engine. This list of coordinates is used to create a polygon geometry `pa_geom` using the `ee.Geometry.Polygon(`) function from the Earth Engine Python API.\n",
    "\n",
    "The polygon geometry representing the boundary of Pennsylvania is converted into an Earth Engine FeatureCollection (aoi). This FeatureCollection serves as the study area extent for subsequent analysis within Google Earth Engine and is used later in the study to clip the satellite images."
   ]
  },
  {
   "cell_type": "code",
   "execution_count": null,
   "id": "fdc8f28c-2490-4bd1-8b05-e3258bdff3ac",
   "metadata": {},
   "outputs": [],
   "source": [
    "pa_tracts = gpd.read_file('######')\n",
    "# dissolve geometry to get the boundary\n",
    "pa_bound = pa_tracts.dissolve() \n",
    "# convert the geometry into a format suitable for gee\n",
    "pa_geom= ee.Geometry.Polygon(list(pa_bound['geometry'].iloc[0].exterior.coords)) \n",
    "aoi = ee.FeatureCollection(pa_geom)"
   ]
  },
  {
   "cell_type": "markdown",
   "id": "1c0b47fa-b538-4caf-a3eb-f961c871cb1b",
   "metadata": {},
   "source": [
    "We also need to simplify the geometries in `pa_tracts` by reducing the number of vertices in each geometry using the specified tolerance of 0.01. The simplify method ensures that the topological integrity of the geometries is preserved. After simplification, the modified GeoDataFrame is converted to a Google Earth Engine (GEE) object using the `geemap.geopandas_to_ee` function, allowing for further geospatial analysis in the GEE platform, specifically when performing zonal statistics."
   ]
  },
  {
   "cell_type": "code",
   "execution_count": null,
   "id": "7288ace1-c60a-4264-ada5-569751874a01",
   "metadata": {},
   "outputs": [],
   "source": [
    "tolerance = 0.01\n",
    "pa_tracts['geometry'] = pa_tracts['geometry'].simplify(tolerance, preserve_topology=True)\n",
    "pa_tracts_ee = geemap.geopandas_to_ee(pa_tracts)"
   ]
  },
  {
   "cell_type": "markdown",
   "id": "370b018c-327d-4bab-ae72-ff8f4d2b2658",
   "metadata": {},
   "source": [
    "## Loading Landsat Data"
   ]
  },
  {
   "cell_type": "markdown",
   "id": "212536fe-85f1-440a-9023-0a250b3b8dd0",
   "metadata": {},
   "source": [
    "We acquired all Landsat 8 level 2 images satellite images from Spring 2022 to Spring 2023 over the study area. These images were obtained via the Google Earth Engine API and are coded in the Earth Engine Data Catalog as [USGS Landsat 8 Level 2, Collection 2, Tier 1](https://developers.google.com/earth-engine/datasets/catalog/LANDSAT_LC08_C02_T1_L2#description). We acquired those images by season and took the average before further processing.\n",
    "\n",
    "This specific version and level of processing of Landsat 8 satellite imagery provided by the United States Geological Survey uses Surface Reflectance Code to generate products with geometrical, radiometric, and atmospheric corrections. These products have a spatial resolution of 30 m. The products used in this study as predictors are the **surface reflectance OLI bands, brightness temperature (BT)**, and some pre-processed indexes, such as the **normalized difference vegetation index (NDVI), the soil-adjusted vegetation index (SAVI), and the enhanced vegetation index (EVI)**. Moreover, the images were processed to scale alll the bands and remove cloud coverage.\n",
    "\n",
    "Since we are taking into the account the impact of seasonal variabtions of vegetation indices on COPD, let's first set up the constants that define the temporal extent of our study and transform them into a format that Earth Engine expects."
   ]
  },
  {
   "cell_type": "code",
   "execution_count": null,
   "id": "5b94576f-62b4-41b5-aa56-02218b33f17a",
   "metadata": {},
   "outputs": [],
   "source": [
    "## Define Time Period\n",
    "startSpring = datetime(2022, 3, 1) # spring\n",
    "endSpring = datetime(2022, 5, 31)\n",
    "startSummer = datetime(2022, 6, 1) # summer\n",
    "endSummer = datetime(2022, 8, 31)\n",
    "startFall = datetime(2022, 9, 1) # fall\n",
    "endFall = datetime(2022, 11, 30)\n",
    "startWinter = datetime(2022, 12, 1) # winter\n",
    "endWinter = datetime(2023, 2, 28)\n",
    "\n",
    "# Format dates into strings that Earth Engine expects (\"YYYY-MM-DD\")\n",
    "startSpring= startSpring.strftime('%Y-%m-%d')\n",
    "endSpring = endSpring.strftime('%Y-%m-%d')\n",
    "startSummer = startSummer.strftime('%Y-%m-%d')\n",
    "endSummer = endSummer.strftime('%Y-%m-%d')\n",
    "startFall = startFall.strftime('%Y-%m-%d')\n",
    "endFall = endFall.strftime('%Y-%m-%d')\n",
    "startWinter = startWinter.strftime('%Y-%m-%d')\n",
    "endWinter = endWinter.strftime('%Y-%m-%d')"
   ]
  },
  {
   "cell_type": "markdown",
   "id": "ce092991-4465-473c-a955-3972cde8a355",
   "metadata": {},
   "source": [
    "The function `apply_scale_factors` applies scale and offset adjustments to Landsat satellite imagery bands, specifically for optical and thermal bands. In the Landsat data, pixel values are often represented as digital numbers (DN) which require conversion to physical units like reflectance or temperature."
   ]
  },
  {
   "cell_type": "code",
   "execution_count": null,
   "id": "231038c1-a70c-46c1-9f17-1d686f122d94",
   "metadata": {},
   "outputs": [],
   "source": [
    "## Helper Function - Scale Bands\n",
    "def apply_scale_factors(image):\n",
    "    # Scale and offset values for optical bands\n",
    "    optical_bands = image.select('SR_B.').multiply(0.0000275).add(-0.2)\n",
    "\n",
    "    # Scale and offset values for thermal bands\n",
    "    thermal_bands = image.select('ST_B.*').multiply(0.00341802).add(149.0)\n",
    "\n",
    "    # Add scaled bands to the original image\n",
    "    return image.addBands(optical_bands, None, True) \\\n",
    "                .addBands(thermal_bands, None, True)"
   ]
  },
  {
   "cell_type": "markdown",
   "id": "41f77363-b39d-4959-a673-841984c3ee77",
   "metadata": {},
   "source": [
    "The `cloud_mask function` is designed to create a binary mask for identifying and masking out pixels affected by clouds and cloud shadows in Landsat satellite imagery. It plays a crucial role in pre-processing Landsat imagery by removing cloud and cloud shadow effects to enhance data quality and reliability for downstream analysis."
   ]
  },
  {
   "cell_type": "code",
   "execution_count": null,
   "id": "4d9c31cb-c7b8-493b-af8e-e576940f681e",
   "metadata": {},
   "outputs": [],
   "source": [
    "## Helper Function - Mask Clouds\n",
    "def cloud_mask(image):\n",
    "    # Define cloud shadow and cloud bitmask (Bits 3 and 5)\n",
    "    cloud_shadow_bit_mask = 1 << 3\n",
    "    cloud_bit_mask = 1 << 5\n",
    "\n",
    "    # Select the Quality Assessment (QA) band for pixel quality information\n",
    "    qa = image.select('QA_PIXEL')\n",
    "\n",
    "    # Create a binary mask to identify clear conditions (both cloud and cloud shadow bits set to 0)\n",
    "    mask = qa.bitwiseAnd(cloud_shadow_bit_mask).eq(0) \\\n",
    "                .And(qa.bitwiseAnd(cloud_bit_mask).eq(0))\n",
    "\n",
    "    # Update the original image, masking out cloud and cloud shadow-affected pixels\n",
    "    return image.updateMask(mask)"
   ]
  },
  {
   "cell_type": "markdown",
   "id": "a4580361-99a0-4256-9181-ff60ef97c714",
   "metadata": {},
   "source": [
    "As we breifly mentioned in the introduction, we acquired four different indices based on the bands of our satellite images. They are NDVI, SAVI, EVI, and LST. This function below will calculate all the indices we need all at once. Among those, NDVI is a common vegetation index used to assess the presence and health of vegetation based on the difference in reflectance between near-infrared (NIR) and red light wavelengths.\n",
    "\n",
    "The formula is `NDVI = (Band 5 – Band 4) / (Band 5 + Band 4)`\n",
    "\n",
    "SAVI is a vegetation index similar to NDVI but incorporates a soil brightness correction factor to account for variations in soil reflectance.\n",
    "\n",
    "The formulas is `SAVI = ((Band 5 – Band 4) / (Band 5 + Band 4 + 0.5)) * (1.5)`\n",
    "\n",
    "EVI is a vegetation index designed to minimize the influence of atmospheric conditions and background noise on vegetation assessments.\n",
    "\n",
    "The formula is `EVI = 2.5 * ((Band 5 – Band 4) / (Band 5 + 6 * Band 4 – 7.5 * Band 2 + 1))`\n",
    "\n",
    "Finally, the calculation of land surface temperature (LST) needs to be broken down into the following steps: \n",
    "\n",
    "- **Minimum and Maximum NDVI Calculation**: It calculates the minimum and maximum NDVI values within the AOI using the reduceRegion() method. The reducer parameter specifies the type of aggregation (in this case, `min()` and `max()`)\n",
    "\n",
    "- **Fraction of Vegetation (FV) Calculation**: It computes the Fraction of Vegetation (FV) using the `NDVI` values, `NDVI_min`, and `NDVI_max` obtained in the previous step. The formula calculates the square of the normalized difference between `NDVI` and `NDVI_min` divided by the difference between `NDVI_max` and `NDVI_min`.\n",
    "`\n",
    "- **Emissivity (EM) Calculation**: It calculates the emissivity using the FV values obtained from the previous step. The formula computes the emissivity based on the FV values according to the provided equation.\n",
    "\n",
    "- **Land Surface Temperature (LST) Calculation**: It computes the Land Surface Temperature (LST) using the thermal band (Band 10) from the Landsat imagery and the emissivity values calculated earlier. The formula calculates the LST based on the Planck's Law, considering the thermal band as temperature in Kelvin and the calculated emissivity."
   ]
  },
  {
   "cell_type": "code",
   "execution_count": null,
   "id": "f8b5929d-0394-4508-91c1-f9b800fb984f",
   "metadata": {},
   "outputs": [],
   "source": [
    "def calculate_seasonal_indices(image_collection, aoi, season_name):\n",
    "    \n",
    "    # Calculate NDVI\n",
    "    ndvi = image_collection.normalizedDifference(['SR_B5', 'SR_B4']).rename('NDVI')\n",
    "\n",
    "    # Calculate SAVI\n",
    "    savi = image_collection.expression(\n",
    "        '1.5 * (NIR - RED) / (NIR + RED + 0.5)', {\n",
    "            'NIR': image_collection.select('SR_B5'),\n",
    "            'RED': image_collection.select('SR_B4')\n",
    "        }\n",
    "    ).rename('SAVI')\n",
    "\n",
    "    # Calculate EVI\n",
    "    evi = image_collection.expression(\n",
    "        '2.5 * ((NIR - RED) / (NIR + 6 * RED - 7.5 * BLUE + 1))', {\n",
    "            'NIR': image_collection.select('SR_B5'),\n",
    "            'RED': image_collection.select('SR_B4'),\n",
    "            'BLUE': image_collection.select('SR_B2')\n",
    "        }\n",
    "    ).rename('EVI')\n",
    "\n",
    "    # NDVI min and max for Fraction of Vegetation (FV) calculation\n",
    "    ndvi_min = ndvi.reduceRegion(\n",
    "        reducer=ee.Reducer.min(),\n",
    "        geometry=aoi,\n",
    "        scale=30,\n",
    "        maxPixels=1e9\n",
    "    ).get('NDVI')\n",
    "\n",
    "    ndvi_max = ndvi.reduceRegion(\n",
    "        reducer=ee.Reducer.max(),\n",
    "        geometry=aoi,\n",
    "        scale=30,\n",
    "        maxPixels=1e9\n",
    "    ).get('NDVI')\n",
    "\n",
    "    # Convert NDVI_min and NDVI_max to ee.Number\n",
    "    ndvi_min = ee.Number(ndvi_min)\n",
    "    ndvi_max = ee.Number(ndvi_max)\n",
    "\n",
    "    # Fraction of Vegetation (FV)\n",
    "    fv = ndvi.subtract(ndvi_min).divide(ndvi_max.subtract(ndvi_min)).pow(2).rename('FV')\n",
    "\n",
    "    # Emissivity (EM)\n",
    "    em = fv.multiply(0.004).add(0.986).rename('EM')\n",
    "\n",
    "    # Thermal band (Band 10)\n",
    "    thermal = image_collection.select('ST_B10').rename('thermal')\n",
    "\n",
    "    # Land Surface Temperature (LST)\n",
    "    lst = thermal.expression(\n",
    "        '(TB / (1 + (0.00115 * (TB / 1.438)) * log(em))) - 273.15',\n",
    "        {\n",
    "            'TB': thermal.select('thermal'),  # Thermal band temperature in Kelvin\n",
    "            'em': em  # Emissivity\n",
    "        }\n",
    "    ).rename('LST')\n",
    "\n",
    "    seasonal_image = ndvi.addBands([savi, evi, fv, em, lst])\n",
    "    return seasonal_image"
   ]
  },
  {
   "cell_type": "markdown",
   "id": "4135a87b-4851-4d7b-9e54-4d4d6cf94f21",
   "metadata": {},
   "source": [
    "We define a dictionary that maps each season to its corresponding start and end dates. The code then iterates through each season, filters a Landsat 8 image collection based on the region of interest (aoi) and the defined seasonal date range, applies scale factors and a cloud mask, computes the median composite of the images, and clips the result to the aoi. For each season, the processed image collection is passed to the `calculate_seasonal_indices function`, which calculates season-specific indices (e.g., NDVI, SAVI)."
   ]
  },
  {
   "cell_type": "code",
   "execution_count": null,
   "id": "9d91ccb2-2b30-495a-bb3c-9b2fc19e3189",
   "metadata": {},
   "outputs": [],
   "source": [
    "seasons = {\n",
    "    'spring': (startSpring, endSpring),\n",
    "    'summer': (startSummer, endSummer),\n",
    "    'fall': (startFall, endFall),\n",
    "    'winter': (startWinter, endWinter)\n",
    "}\n",
    "\n",
    "seasonal_results = {}\n",
    "for season, (start_date, end_date) in seasons.items():\n",
    "    image_collection = ee.ImageCollection(\"LANDSAT/LC08/C02/T1_L2\") \\\n",
    "        .filterBounds(aoi) \\\n",
    "        .filterDate(start_date, end_date) \\\n",
    "        .map(apply_scale_factors) \\\n",
    "        .map(cloud_mask) \\\n",
    "        .median() \\\n",
    "        .clip(aoi)\n",
    "\n",
    "    seasonal_results[season] = calculate_seasonal_indices(image_collection, aoi, season)"
   ]
  },
  {
   "cell_type": "markdown",
   "id": "73735981-1398-4a47-b23d-b7ab55681acd",
   "metadata": {},
   "source": [
    "Next, the function below helps to summarize our calculated indicies into census tracts using zonal statistics. This is one of the easiest method of brining raster information into vector geometries. In Earth Engine, zonal statistics can be calculated by aggregating pixel values within geometries defined by feature collections (in our case, the census tracts). Common summary statistics computed for each zone include mean, sum, minimum, maximum, standard deviation, and percentile values (in our case, we will calculate the mean). We wrote the export zonal statistics function and by default, it will write the output directly to google drive. "
   ]
  },
  {
   "cell_type": "code",
   "execution_count": null,
   "id": "11213a04-b8aa-472f-9d72-cdde3a761057",
   "metadata": {},
   "outputs": [],
   "source": [
    "# Function to export zonal stats to Google Drive\n",
    "def export_zonal_stats(image, reducer, file_name, folder_name=\"######\"):\n",
    "    \n",
    "    zonal_stats = image.reduceRegions(\n",
    "        collection=pa_tracts_ee,\n",
    "        reducer = ee.Reducer.mean()\n",
    "        scale=30  # Resolution of the analysis\n",
    "    )\n",
    "\n",
    "    task = ee.batch.Export.table.toDrive(\n",
    "        collection=zonal_stats,\n",
    "        fileFormat='CSV',\n",
    "        fileNamePrefix=file_name.replace('.csv', ''),\n",
    "        folder=folder_name\n",
    "    )\n",
    "    task.start()\n",
    "    print(f\"Export started for {file_name}. Check Google Drive for the results.\")"
   ]
  },
  {
   "cell_type": "markdown",
   "id": "f3bcb09c-a5d5-4956-b2e7-2c254efe3654",
   "metadata": {},
   "source": [
    "The code below will give us 16 separate csv files, each with four columns. The system:index is a unique identifier for each census tract, the mean is the mean pixels values, the .geo is the geometry of each census tracts, and GEOID is the identifier for each census tract. "
   ]
  },
  {
   "cell_type": "code",
   "execution_count": null,
   "id": "d5a03e86-2a01-4b68-9580-6af73f73f24c",
   "metadata": {},
   "outputs": [],
   "source": [
    "seasonal_results = {\n",
    "    \"spring\": seasonal_results['spring'],\n",
    "    \"summer\": seasonal_results['summer'],\n",
    "    \"fall\": seasonal_results['fall'],\n",
    "    \"winter\": seasonal_results['winter']\n",
    "}\n",
    "\n",
    "bands = ['NDVI', 'EVI', 'SAVI', 'LST']\n",
    "\n",
    "for season, image in seasonal_results.items():\n",
    "    for band in bands:\n",
    "        band_image = image.select(band)  # Extract specific band\n",
    "        file_name = f\"{band.lower()}_{season}.csv\"  # File name e.g., ndvi_spring.csv\n",
    "        export_zonal_stats(image=band_image, reducer=reducer, file_name=file_name)"
   ]
  },
  {
   "cell_type": "markdown",
   "id": "fb4b4b8b-5c39-41cb-a14d-493b08b1a8c3",
   "metadata": {},
   "source": [
    "## Loading Land Cover Data"
   ]
  },
  {
   "cell_type": "markdown",
   "id": "6f80c0ac-ae0a-4476-be57-ca5acf0bc3b4",
   "metadata": {},
   "source": [
    "We also acquired [USGS National Land Cover Data](https://developers.google.com/earth-engine/datasets/catalog/USGS_NLCD_RELEASES_2021_REL_NLCD#bands) for our study area. These images were also obtained via the Google Earth Engine API and are coded in the Earth Engine Data Catalog. We use the 2021 data because that is the latest release avaialbe on Earth Engine and we assume that the landcover of 2021 would match with that of 2022. Afterloading the data,  filter is applied to extract the land cover data for the year 2021. The select method isolates the landcover band, which contains the land cover classification. Then, the data is clipped to the specified area of interest (aoi), creating a subset focused on Pennsylvania. "
   ]
  },
  {
   "cell_type": "code",
   "execution_count": null,
   "id": "f94702c3-dca1-41b7-9d85-42f21e90da93",
   "metadata": {},
   "outputs": [],
   "source": [
    "dataset = ee.ImageCollection('USGS/NLCD_RELEASES/2021_REL/NLCD')\n",
    "nlcd2021 = dataset.filter(ee.Filter.eq('system:index', '2021')).first()\n",
    "landcover = nlcd2021.select('landcover')\n",
    "pa_landcover = landcover.clip(aoi)"
   ]
  },
  {
   "cell_type": "markdown",
   "id": "2570b48f-85f4-45f3-833b-24e3558aec47",
   "metadata": {
    "tags": []
   },
   "source": [
    "This landcover dataset is publicly available and consists of 8 main land cover classes and 20 sub-classes of land cover. These classes include Water (open water and perennial ice/snow), Developed (high, medium, low and open space), Barren (rock/sand/clay), Forest (deciduous, evergreen and mixed), Shrubland (dwarf shrub and shrub), Herbaceous (grassland, sedge, lichens and moss), Planted/ Cultivated (pasture/hay and cultivated crops) and Wetlands (woody and emergent herbaceous). For detailed land cover classification, refer to the chart below: \n",
    "\n",
    "![](../assets/landcover.png)\n",
    "\n",
    "In this study, various land cover types are grouped into broader categories based on their respective NLCD codes for simplicty of analysis. For example, **high-density areas** are defined as land cover types 23 and 24, which typically represent urban environments. Similarly, **low-density areas** (codes 21 and 22) correspond to open spaces like barren land and low-density residential areas. **Forested areas** are grouped under codes 41, 42, and 43, while **grasses** are categorized with codes 52, 71, 81, and 82. **Wetlands and open water** are also identified using their specific codes (90, 95, and 11). This categorization simplifies the analysis by grouping similar land cover types together based on their characteristics, enabling focused analysis of specific land use patterns."
   ]
  },
  {
   "cell_type": "code",
   "execution_count": null,
   "id": "f37ed2b5-0261-43dc-924c-2640c2a85645",
   "metadata": {},
   "outputs": [],
   "source": [
    "high_density = pa_landcover.eq(23).Or(pa_landcover.eq(24))\n",
    "low_density = pa_landcover.eq(21).Or(pa_landcover.eq(22))\n",
    "forest = pa_landcover.eq(41).Or(pa_landcover.eq(42)).Or(pa_landcover.eq(43))\n",
    "grasses = pa_landcover.eq(52).Or(pa_landcover.eq(71)).Or(pa_landcover.eq(81)).Or(pa_landcover.eq(82))\n",
    "wetlands = pa_landcover.eq(90).Or(pa_landcover.eq(95))\n",
    "open_water = pa_landcover.eq(11)"
   ]
  },
  {
   "cell_type": "markdown",
   "id": "bb80e7dc-7e94-4d69-9e35-e968d0b7774c",
   "metadata": {},
   "source": [
    "As briefly mentioned in the workflow, given that these proportions can be similar across multiple census tracts despite the underlying distribution of land cover being different (e.g., two census tracts can have the same percentage of highly developed land, but that land can be geographically concentrated in one tract and distributed in the other), we introduced additional features to represent the distribution of land cover features. For each census tract we calculate features representing i) the proportion of high developed land pixels neighboring another high developed land pixel and ii) the proportion of forest pixels neighboring another forest pixel. These features were intended to capture the notion that developed land corresponds to higher level of pollution while forests and trees can be a source of pollen, both of which have adverse impact on patients suffering from asthma and COPD.\n",
    "\n",
    "The code below achieves this goal. It first creates a kernel for identifying neighboring pixels, then calculates the total number of land cover pixels within each region. It also computes the number of neighboring land cover pixels using a convolution operation to identify adjacent pixels. These calculations are performed using the `reduceRegions` method to aggregate the data for each region of interest (e.g., census tracts) from the input land cover mask. The results are then merged, associating the total land cover and neighboring land cover values with their corresponding region identifiers (GEOID). Finally, the function exports the aggregated data as a CSV file to Google Drive. "
   ]
  },
  {
   "cell_type": "code",
   "execution_count": null,
   "id": "0049e52d-b703-40d3-97a1-b98390cd8507",
   "metadata": {},
   "outputs": [],
   "source": [
    "def neighboring_landcover_metrics(landcover_mask, file_name):\n",
    "\n",
    "    # Define the kernel for neighboring pixels\n",
    "    kernel = ee.Kernel.square(radius=1, units='pixels')  # 3x3 neighborhood\n",
    "    neighbors = landcover_mask.convolve(kernel).gte(1)  # At least one neighbor\n",
    "\n",
    "    # Calculate total landcover pixels\n",
    "    total_landcover = landcover_mask.reduceRegions(\n",
    "        collection=pa_tracts_ee,\n",
    "        reducer=ee.Reducer.sum(),\n",
    "        scale=30\n",
    "    ).select(['sum'], ['total_landcover'])\n",
    "\n",
    "    # Calculate neighboring landcover pixels\n",
    "    neighbor_landcover = neighbors.reduceRegions(\n",
    "        collection=pa_tracts_ee,\n",
    "        reducer=ee.Reducer.sum(),\n",
    "        scale=30\n",
    "    ).select(['sum'], ['neighbor_landcover'])\n",
    "\n",
    "    # Merge FeatureCollections and retain geoid\n",
    "    merged_fc = total_landcover.map(lambda feature:\n",
    "        feature.set(\n",
    "            'neighbor_landcover',\n",
    "            neighbor_landcover.filter(ee.Filter.eq('system:index', feature.get('system:index')))\n",
    "                              .first()\n",
    "                              .get('neighbor_landcover')\n",
    "        ).set(\n",
    "            'geoid', pa_tracts_ee.filter(ee.Filter.eq('system:index', feature.get('system:index')))\n",
    "                                 .first()\n",
    "                                 .get('GEOID')\n",
    "        )\n",
    "    )\n",
    "\n",
    "    # Export the merged FeatureCollection\n",
    "    export_task = ee.batch.Export.table.toDrive(\n",
    "        collection=merged_fc.select(['geoid', 'total_landcover', 'neighbor_landcover']),\n",
    "        folder='#######',\n",
    "        fileNamePrefix=file_name,\n",
    "        fileFormat='CSV'\n",
    "    )\n",
    "    export_task.start()\n",
    "    print(f\"Export task started: {file_name}\")"
   ]
  },
  {
   "cell_type": "markdown",
   "id": "5ae81362-4ab4-44cb-a29f-37b1641ee29d",
   "metadata": {},
   "source": [
    "For forest and high-density land cover types, the `neighboring_landcover_metrics` function is applied to calculate the number of neighboring land cover pixels within a 3x3 pixel neighborhood. "
   ]
  },
  {
   "cell_type": "code",
   "execution_count": null,
   "id": "900fb1bd-a2c3-462e-bd94-f0e41a34cdf6",
   "metadata": {},
   "outputs": [],
   "source": [
    "neighboring_landcover_metrics(\n",
    "    landcover_mask=forest,\n",
    "    file_name='forest_landcover_metrics'\n",
    ")\n",
    "\n",
    "neighboring_landcover_metrics(\n",
    "    landcover_mask=high_density,\n",
    "    file_name='high_density_landcover_metrics'\n",
    ")"
   ]
  },
  {
   "cell_type": "markdown",
   "id": "fbabf481-9db3-48c2-8f11-30b2793d8193",
   "metadata": {},
   "source": [
    "For other land cover types such as grasses, low density, wetlands, and open water, the `summarize_landcover_pixels` function is used instead. This function simply calculates the total number of land cover pixels within each region, without considering neighboring pixels. The results for both types of metrics are then exported as CSV files to Google Drive for further analysis."
   ]
  },
  {
   "cell_type": "code",
   "execution_count": null,
   "id": "294cfced-e946-4b7b-8ca8-b76754d83978",
   "metadata": {},
   "outputs": [],
   "source": [
    "def summarize_landcover_pixels(landcover_mask, file_name):\n",
    "    \n",
    "    # Calculate total landcover pixels\n",
    "    total_landcover = landcover_mask.reduceRegions(\n",
    "        collection=pa_tracts_ee,\n",
    "        reducer=ee.Reducer.sum(),\n",
    "        scale=30\n",
    "    ).map(lambda feature: feature.set(\n",
    "        'geoid', feature.get('GEOID')\n",
    "    ))\n",
    "\n",
    "    # Export the results to Drive\n",
    "    export_task = ee.batch.Export.table.toDrive(\n",
    "        collection=total_landcover.select(['geoid', 'sum']),\n",
    "        folder='#######',\n",
    "        fileNamePrefix=file_name,\n",
    "        fileFormat='CSV'\n",
    "    )\n",
    "    export_task.start()\n",
    "    print(f\"Export task started: {file_name}\")"
   ]
  },
  {
   "cell_type": "code",
   "execution_count": null,
   "id": "be6c2cac-a57b-4754-9b8b-5162078df37e",
   "metadata": {},
   "outputs": [],
   "source": [
    "landcover_list = [\n",
    "    {'mask': grasses, 'file_name': 'grasses_landcover'},\n",
    "    {'mask': low_density, 'file_name': 'low_density_landcover'},\n",
    "    {'mask': wetlands, 'file_name': 'wetlands_landcover'},\n",
    "    {'mask': open_water, 'file_name': 'open_water_landcover'}\n",
    "]\n",
    "\n",
    "for landcover in landcover_list:\n",
    "    summarize_landcover_pixels(landcover['mask'], landcover['file_name'])"
   ]
  }
 ],
 "metadata": {
  "kernelspec": {
   "display_name": "Python 3 (ipykernel)",
   "language": "python",
   "name": "python3"
  },
  "language_info": {
   "codemirror_mode": {
    "name": "ipython",
    "version": 3
   },
   "file_extension": ".py",
   "mimetype": "text/x-python",
   "name": "python",
   "nbconvert_exporter": "python",
   "pygments_lexer": "ipython3",
   "version": "3.10.12"
  }
 },
 "nbformat": 4,
 "nbformat_minor": 5
}

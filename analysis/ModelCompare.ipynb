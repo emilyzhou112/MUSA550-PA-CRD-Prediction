{
 "cells": [
  {
   "cell_type": "markdown",
   "id": "59ab4d61-1df3-481b-8832-8618737269a8",
   "metadata": {},
   "source": [
    "---\n",
    "format: \n",
    "  html:\n",
    "    toc: true\n",
    "    page-layout: full\n",
    "execute:\n",
    "    warning: false\n",
    "    echo: true\n",
    "    eval: true\n",
    "---"
   ]
  },
  {
   "cell_type": "markdown",
   "id": "3b476716-274c-4805-9702-9571302ed48b",
   "metadata": {},
   "source": [
    "# Machine Learning Model Comparison"
   ]
  },
  {
   "cell_type": "markdown",
   "id": "5184fa9b-8aa3-4e13-9b2b-f835ea78d8ac",
   "metadata": {},
   "source": [
    "The purpose of this notebook is to explore the effectiveness of different machine learning models in predicting COPD and compare their performance relative to one another. It is important to experiment with various models because each machine learning algorithm has its strengths and weaknesses, and understanding how different models perform on the same problem helps in making more informed decisions about which model to deploy. For example, while Random Forest (RF) is often considered reliable due to its ability to handle complex, high-dimensional datasets and its robustness to overfitting, other models like Support Vector Machine (SVM) and Multi-Layer Perceptron (MLP) may offer different advantages, such as better generalization, handling of non-linear relationships, or the ability to learn deep representations. Trying out these models ensures we capture the best possible predictive power for COPD prediction.\n",
    "\n",
    "In scikit-learn, there are built-in tools that facilitate the implementation of various machine learning models. By comparing models such as Random Forest, SVM, and MLP, we gain a clearer understanding of which algorithm best suits the problem at hand. For this demonstration, we will focus on the `PA_Spring` dataset, as prior analysis showed that while there are seasonal differences, they do not significantly affect the predictive performance across different models. Moreover, we will use the dataset after dimensionality reduction to ensure the comparison is focused on the models rather than the choice of predictors.\n",
    "\n",
    "<span style=\"color:red\">It is worth noting that the deep learning model (MLP) will be run on Google Colab, as running deep learning models locally might not be efficient. Training deep neural networks can be computationally intensive and take a long time, especially when dealing with large datasets or complex models. Google Colab offers access to GPUs, which can significantly speed up training times and make the process more efficient.</span>"
   ]
  },
  {
   "cell_type": "code",
   "execution_count": 6,
   "id": "95eb7ee8-0e1d-4309-a528-7d8e55caaa22",
   "metadata": {
    "tags": []
   },
   "outputs": [],
   "source": [
    "#| code-fold: true\n",
    "\n",
    "import numpy as np\n",
    "import pandas as pd\n",
    "import geopandas as gpd\n",
    "import seaborn as sns\n",
    "import matplotlib.pyplot as plt\n",
    "from sklearn.pipeline import Pipeline\n",
    "from sklearn.model_selection import train_test_split, KFold\n",
    "from sklearn.svm import SVR\n",
    "from sklearn.metrics import make_scorer, mean_squared_error, r2_score, mean_absolute_error\n",
    "from sklearn.preprocessing import StandardScaler\n",
    "from sklearn.linear_model import LinearRegression\n",
    "from sklearn.ensemble import RandomForestRegressor\n",
    "import tensorflow as tf\n",
    "from scipy.stats import norm\n",
    "import warnings\n",
    "warnings.filterwarnings('ignore')"
   ]
  },
  {
   "cell_type": "code",
   "execution_count": 7,
   "id": "d71849b5-b20e-4489-b9fd-746739290230",
   "metadata": {
    "tags": []
   },
   "outputs": [],
   "source": [
    "#| echo: false\n",
    "\n",
    "PA_Spring = pd.read_csv('../data/Intermediaries/PA_Spring.csv')\n",
    "X_Spring_BIC = PA_Spring[['Smoking', 'Drinking', 'Short_Sleep', 'Physical_Activity', 'minority', 'aging', 'disability', 'forest_total', 'Ldensity_total', 'grasses_total', 'forest_pct', 'lst_spring']]\n",
    "y_Spring = PA_Spring[['spring_count']]\n",
    "stratify_col = PA_Spring['CountyName']"
   ]
  },
  {
   "cell_type": "code",
   "execution_count": 2,
   "id": "2ca87cf1-3a8b-4f64-9493-c1a3b3341801",
   "metadata": {
    "tags": []
   },
   "outputs": [],
   "source": [
    "#| echo: false\n",
    "\n",
    "def split_and_scale_data(X, y, stratify_col, test_size=0.2, random_state=42):\n",
    "   \n",
    "    # Split the data\n",
    "    X_train, X_test, y_train, y_test = train_test_split(\n",
    "        X, y, test_size=test_size, random_state=random_state, stratify=stratify_col\n",
    "    )\n",
    "    \n",
    "    # Scale the data\n",
    "    scaler = StandardScaler()\n",
    "    X_train_scaled = scaler.fit_transform(X_train)\n",
    "    X_test_scaled = scaler.transform(X_test)\n",
    "    \n",
    "    return X_train_scaled, X_test_scaled, y_train, y_test, scaler\n"
   ]
  },
  {
   "cell_type": "markdown",
   "id": "0d307bf6-5121-4a09-acaa-7056a93d2992",
   "metadata": {},
   "source": [
    "## Support Vector Machine"
   ]
  },
  {
   "cell_type": "markdown",
   "id": "227ce19c-9366-4f66-9803-8aa9573a3ad5",
   "metadata": {},
   "source": [
    "A Support Vector Machine (SVM) is a supervised machine learning model used for both classification and regression tasks. The core idea behind SVM is to find a hyperplane that best separates the data points into different classes or predicts continuous outcomes (in the case of regression).\n",
    "\n",
    "For regression, SVM works by finding a function that fits the data while keeping as many data points as possible within a certain margin (controlled by the epsilon parameter). The goal is to minimize the error, but the model is allowed to have some margin of tolerance for errors, which is controlled by epsilon.\n",
    "\n",
    "![](../assets/svm.png)\n",
    "\n",
    "- **Kernel**: The kernel function allows SVM to operate in higher-dimensional spaces, enabling it to find non-linear decision boundaries. Common kernels include linear, radial basis function (RBF), and polynomial. The RBF kernel is commonly used for problems where the relationship between features is non-linear.\n",
    "\n",
    "- **C**: This is a regularization parameter that controls the trade-off between achieving a low error on the training set and maintaining a simple, generalizable model. A large C aims to fit the training data as well as possible (but may lead to overfitting), while a small C allows some error to get a smoother decision boundary.\n",
    "\n",
    "- **Epsilon (ε)**: In the case of SVR, epsilon defines a margin of tolerance where no penalty is given for points that lie within this margin. It controls the width of the tube within which the model tries to fit the data points.\n",
    "\n",
    "The rational behind SVM is to find the optimal hyperplane that maximizes the margin (distance between the nearest data points of each class or the closest regression data points) because this maximization helps in achieving better generalization on unseen data.\n",
    "\n",
    "The function `train_and_evaluate_svm` is designed to train and evaluate a svm model for regression tasks using the Support Vector Regression (SVR) algorithm. It takes in training and test datasets, as well as optional parameters for the SVM model such as the kernel type (defaulted to RBF), the regularization parameter C, and the epsilon parameter that controls the margin of tolerance for errors. First, the model is trained on the training data using the `fit()` method. It then generates predictions on the test data with the `predict()` method. The function calculates performance metrics, including the Mean Squared Error (MSE), Root Mean Squared Error (RMSE), and R-squared (R2) values, which help assess the model's accuracy and its ability to explain the variance in the target variable. The function returns these metrics in a dictionary for easy comparison with other models."
   ]
  },
  {
   "cell_type": "code",
   "execution_count": 12,
   "id": "09bdddbe-496b-4c8e-be7a-aefba24250fb",
   "metadata": {
    "tags": []
   },
   "outputs": [],
   "source": [
    "def train_and_evaluate_svm(X_train, X_test, y_train, y_test, kernel='rbf', C=1.0, epsilon=0.1, random_state=42):\n",
    "    \n",
    "    # Train the SVM model\n",
    "    svm_model = SVR(kernel=kernel, C=C, epsilon=epsilon)\n",
    "    svm_model.fit(X_train, y_train)\n",
    "    \n",
    "    predictions_svm = svm_model.predict(X_test)\n",
    "\n",
    "    # Calculate metrics\n",
    "    mse_svm = mean_squared_error(y_test, predictions_svm)\n",
    "    rmse_svm = np.sqrt(mse_svm)\n",
    "    r2_svm = r2_score(y_test, predictions_svm)\n",
    "\n",
    "    return {\n",
    "        'rmse': rmse_svm,\n",
    "        'r2': r2_svm,\n",
    "    }"
   ]
  },
  {
   "cell_type": "markdown",
   "id": "cdc2b6c6-3ed2-4805-9b40-ca9227bc41f5",
   "metadata": {},
   "source": [
    "## Multiple Layer Perceptron"
   ]
  },
  {
   "cell_type": "markdown",
   "id": "1fa8deff-9657-4de0-b553-6a2bb160c4cb",
   "metadata": {},
   "source": [
    "A Multi-Layer Perceptron (MLP) is a type of artificial neural network commonly used for regression and classification tasks. It consists of multiple layers of neurons, where each neuron is connected to every neuron in the previous and subsequent layers, forming a fully connected network. The MLP learns by adjusting the weights of these connections based on the errors in predictions, using algorithms such as backpropagation. The core idea behind an MLP is that the network can model complex relationships in data by leveraging non-linear activations (e.g., ReLU) and optimizing parameters through training.\n",
    "\n",
    "![](../assets/mlp.png)\n",
    "\n",
    "\n",
    "The function `train_and_evaluate_mlp` defines and evaluates an MLP for regression tasks. The model consists of three dense layers: the first layer has 128 neurons with a ReLU activation function, followed by a dropout layer (with a rate of 0.2 to prevent overfitting), and a second dense layer with 64 neurons and another dropout layer. The final output layer is a single neuron, as it’s a regression problem. The model is compiled using the Adam optimizer and mean squared error loss function. The `fit()` method trains the model using the provided training data, with specified hyperparameters like the number of epochs (defaulted to 50), batch size (32), and a validation split of 0.2 (20% of the data is used for validation during training). After training, predictions are made on the test set, and performance metrics like RMSE and R2 are calculated to evaluate the model's accuracy and explanatory power. \n",
    "\n",
    "It is important to note that there are many ways to design an MLP. For instance, the number of layers, the number of neurons per layer, activation functions, dropout rates, and optimization algorithms can all be adjusted based on the dataset and problem complexity. Advanced variations may also incorporate techniques like batch normalization, different regularization methods, or custom learning schedules to improve performance. This flexibility allows MLPs to be tailored to specific tasks, but it also introduces challenges in choosing the best architecture for a given problem.\n"
   ]
  },
  {
   "cell_type": "code",
   "execution_count": 24,
   "id": "36a0b33f-c119-4fb6-a01b-a04f23e4ce49",
   "metadata": {
    "tags": []
   },
   "outputs": [],
   "source": [
    "#| eval: false\n",
    "\n",
    "def train_and_evaluate_mlp(X_train_scaled, X_test_scaled, y_train, y_test, epochs=50, batch_size=32, validation_split=0.2):\n",
    "    \n",
    "    # Define the MLP model\n",
    "    model = tf.keras.Sequential([\n",
    "        tf.keras.layers.Dense(128, activation='relu', input_shape=(X_train_scaled.shape[1],)),\n",
    "        tf.keras.layers.Dropout(0.2),  # Dropout layer with dropout rate of 0.2\n",
    "        tf.keras.layers.Dense(64, activation='relu'),\n",
    "        tf.keras.layers.Dropout(0.2),  # Dropout layer with dropout rate of 0.2\n",
    "        tf.keras.layers.Dense(1)  # Output layer\n",
    "    ])\n",
    "\n",
    "    # Compile the model\n",
    "    model.compile(optimizer='adam', loss='mean_squared_error')\n",
    "\n",
    "    # Train the model\n",
    "    history = model.fit(X_train_scaled, y_train, epochs=epochs, batch_size=batch_size, validation_split=validation_split)\n",
    "\n",
    "    # Make predictions\n",
    "    predictions_mlp = model.predict(X_test_scaled)\n",
    "\n",
    "    # Calculate metrics\n",
    "    mse_mlp = mean_squared_error(y_test, predictions_mlp)\n",
    "    rmse_mlp = np.sqrt(mse_mlp)\n",
    "    r2_mlp = r2_score(y_test, predictions_mlp)\n",
    "\n",
    "    return {\n",
    "        'rmse': rmse_mlp,\n",
    "        'r2': r2_mlp\n",
    "    }\n"
   ]
  },
  {
   "cell_type": "code",
   "execution_count": 8,
   "id": "ff676eed-46fc-4ed4-b6d5-f42d1061281d",
   "metadata": {
    "tags": []
   },
   "outputs": [],
   "source": [
    "#| echo: false\n",
    "\n",
    "def train_and_evaluate_rf(X_train, X_test, y_train, y_test, feature_names, n_estimators=100, random_state=42):\n",
    "\n",
    "    # Train the Random Forest model\n",
    "    rf_model = RandomForestRegressor(n_estimators=n_estimators, random_state=random_state)\n",
    "    rf_model.fit(X_train, y_train)\n",
    "    \n",
    "    # Make predictions\n",
    "    predictions_rf = rf_model.predict(X_test)\n",
    "\n",
    "    # Calculate metrics\n",
    "    mse_rf = mean_squared_error(y_test, predictions_rf)\n",
    "    rmse_rf = np.sqrt(mse_rf)\n",
    "    r2_rf = r2_score(y_test, predictions_rf)\n",
    "    mae_rf = mean_absolute_error(y_test, predictions_rf)\n",
    "    \n",
    "    return {\n",
    "        'rmse': rmse_rf,\n",
    "        'r2': r2_rf,\n",
    "    }\n"
   ]
  },
  {
   "cell_type": "markdown",
   "id": "705d3830-721e-4b9d-a0ed-566e6cf0bfec",
   "metadata": {},
   "source": [
    "## Results Comparison and Discussion"
   ]
  },
  {
   "cell_type": "markdown",
   "id": "02dd43f2-cf0b-4530-8a42-6152a6f4f2ba",
   "metadata": {},
   "source": [
    "In this section, we load the spring data, using dimensionality-reduced predictor sets, and run all three models: Support Vector Machine (SVM), Random Forest (RF), and Multi-Layer Perceptron (MLP). We compute R² and RMSE metrics for each model to evaluate and compare their performances. It is worth noting that the MLP is run on Google Colab due to the computational demands of training over 50 epochs. Each epoch refers to a complete pass through the training data during model training. The number of epochs impacts how well the model learns patterns in the data, with more epochs generally allowing for improved learning but also risking overfitting if the model trains too long.\n",
    "\n",
    "![](../assets/train.png)\n",
    "**Training Process on Google Colab**\n",
    "\n",
    "| Machine Learning Model | R² Score (Coefficient of Determination) | RMSE (Root Mean Squared Error) |\n",
    "|-------------------------|----------------------------------------|--------------------------------|\n",
    "| Support Vector Machine  | 0.34                                   | 27.12                         |\n",
    "| Random Forest           | 0.527                                  | 23.07                         |\n",
    "| Multi-Layer Perceptron  | 0.520                                  | 23.25                         |\n",
    "\n",
    "\n",
    "These results indicate that both Random Forest and MLP outperform SVM in terms of both R² and RMSE. This is likely because SVMs, while effective for smaller datasets or simpler relationships, may struggle with complex, non-linear interactions present in this dataset. The flexibility of Random Forest and MLP allows them to better capture such patterns, giving them an edge over SVM.\n",
    "\n",
    "However, the similarity in performance between Random Forest and MLP raises important questions. MLP, a deep learning approach, is expected to outperform simpler models like Random Forest in theory, especially as the complexity of the data increases. However, this is not the case here. Possible reasons include:\n",
    "\n",
    "- The dimensionality-reduced data may already represent the predictors well, reducing the advantage deep learning would gain from more complex feature interactions.\n",
    "\n",
    "- Deep learning often benefits from much larger datasets; here, the sample size (~3000) may not be sufficient to realize its full potential.\n",
    "\n",
    "- Hyperparameters such as the number of neurons, layers, and epochs in the MLP might not be fully optimized.\n",
    "\n",
    "- Random Forest's ensemble nature inherently reduces overfitting, making it robust and highly effective even in smaller datasets.\n",
    "\n",
    "That said,  for this specific task, Random Forest emerges as a highly reliable and interpretable model, with comparable performance to MLP but less computational complexity. MLP could still be valuable if the dataset grows in size or complexity. Further hyperparameter tuning might also improve its performance. On the other hand, SVM may not be the best choice for this type of regression problem, particularly when dealing with non-linear relationships and a higher number of predictors.While these results are insightful, a more thorough comparison (e.g., additional metrics, different cross-validation schemes, or trying other algorithms like Gradient Boosting Machines) would strengthen conclusions about model effectiveness.\n"
   ]
  },
  {
   "cell_type": "code",
   "execution_count": null,
   "id": "69a8fcd2-5723-4efe-a39b-028f168c2e97",
   "metadata": {
    "tags": []
   },
   "outputs": [],
   "source": [
    "#| code-fold: true\n",
    "#| eval: false\n",
    "\n",
    "X_train_scaled, X_test_scaled, y_train, y_test_sp, scaler = split_and_scale_data(X_Spring_BIC, y_Spring, stratify_col)\n",
    "spring_result_rf = train_and_evaluate_rf(X_train_scaled, X_test_scaled, y_train, y_test_sp, X_Spring_BIC.columns)\n",
    "spring_result_svm = train_and_evaluate_svm(X_train_scaled, X_test_scaled, y_train, y_test_sp, kernel='rbf', C=1.0, epsilon=0.1)\n",
    "spring_result_mlp = train_and_evaluate_mlp(X_train_scaled, X_test_scaled, y_train, y_test_sp, epochs=50, batch_size=32)"
   ]
  }
 ],
 "metadata": {
  "kernelspec": {
   "display_name": "Python 3 (ipykernel)",
   "language": "python",
   "name": "python3"
  },
  "language_info": {
   "codemirror_mode": {
    "name": "ipython",
    "version": 3
   },
   "file_extension": ".py",
   "mimetype": "text/x-python",
   "name": "python",
   "nbconvert_exporter": "python",
   "pygments_lexer": "ipython3",
   "version": "3.10.12"
  }
 },
 "nbformat": 4,
 "nbformat_minor": 5
}

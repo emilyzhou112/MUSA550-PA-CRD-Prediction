{
 "cells": [
  {
   "cell_type": "markdown",
   "id": "1e25a57e-745b-4cf5-b384-113a58fa2cbb",
   "metadata": {},
   "source": [
    "---\n",
    "format: \n",
    "  html:\n",
    "    toc: true\n",
    "    page-layout: full\n",
    "execute:\n",
    "    echo: true\n",
    "    eval: false\n",
    "---"
   ]
  },
  {
   "cell_type": "markdown",
   "id": "1a798422-b729-4986-9e91-480dcf4f7439",
   "metadata": {},
   "source": [
    "# Vector Data Loading and Processing"
   ]
  },
  {
   "cell_type": "markdown",
   "id": "d41cd2de-35e9-4a83-8da2-270f6a1bb6c7",
   "metadata": {},
   "source": [
    "To get all the vector data required in this study, we used the following packages. The `cenpy` package provides a streamlined interface for accessing data from the U.S. Census Bureau's APIs, such as the American Community Survey (ACS) and Decennial Census. It simplifies querying demographic, socioeconomic, and housing data directly from census databases. The `pygris` package focuses on working with the U.S. Census Bureau's geographic data, particularly boundary files like TIGER/Line shapefiles. We would also need `geopandas` and `pandas` for working with spatial and tabular data, respectively, to load and further process downloaded data.\n",
    "\n",
    "<span style=\"color:red\">Note: The dataset from CDC is 760 MB and therefore cannot be commited to GitHub. It is currently stored in a private folder ignored by the repository. Given the size of the original data, we used Colab for all the vector data loading and processing work as well. The code here are just for demonstration purposes. All file paths have been removed.</span>\n",
    "\n",
    "If you wish to reproduce this study, you may download the original CDC data that's available [here](https://data.cdc.gov/500-Cities-Places/PLACES-Local-Data-for-Better-Health-Census-Tract-D/cwsq-ngmh/about_data). Alternatively, you may head to the next step in the *Methodology* section and follow the steps there to load in proccessed data.  "
   ]
  },
  {
   "cell_type": "code",
   "execution_count": null,
   "id": "d1f8b620-52a4-43ef-94ed-834aab55c84e",
   "metadata": {},
   "outputs": [],
   "source": [
    "#| echo: false\n",
    "#| eval: true\n",
    "\n",
    "import geopandas as gpd\n",
    "import pandas as pd\n",
    "import cenpy\n",
    "import pygris"
   ]
  },
  {
   "cell_type": "markdown",
   "id": "af942f5c-b04b-4360-9919-8af9ede68533",
   "metadata": {},
   "source": [
    "## Tobacco Retailer Data"
   ]
  },
  {
   "cell_type": "markdown",
   "id": "2e9ab9d8-d602-409f-b4c5-007265082767",
   "metadata": {},
   "source": [
    "The original retailer dataset from [PA Open Data Portal](https://data.pa.gov/Licenses-Certificates/Tobacco-Products-Tax-Licenses-Current-Daily-County/ut72-sft8/about_data) is first loaded from a CSV file. Next, the data is filtered to include only rows where the state column equals 'PA'. This extra steps ensures that we are only including the retailers from Pennsylvania. The resulting subset is refined to retain only the columns of interest: county, license_type, lat, and lon, which provide relevant spatial and categorical information for further analysis."
   ]
  },
  {
   "cell_type": "code",
   "execution_count": null,
   "id": "943352c9-2571-48c7-8d28-4ec22d242336",
   "metadata": {},
   "outputs": [],
   "source": [
    "all_retailers = pd.read_csv('######')\n",
    "pa_retailers = all_retailers[all_retailers['state'] == 'PA']\n",
    "pa_retailers = pa_retailers[[\"county\", \"license_type\", \"lat\", \"lon\"]]"
   ]
  },
  {
   "cell_type": "markdown",
   "id": "772c9db9-89b9-47fa-b2ce-231b81131ac3",
   "metadata": {},
   "source": [
    "The processed data is then exported. "
   ]
  },
  {
   "cell_type": "code",
   "execution_count": null,
   "id": "dc55a0f8-eae9-4772-964a-3350b17e6536",
   "metadata": {},
   "outputs": [],
   "source": [
    "pa_retailers.to_csv('#####', index=False)"
   ]
  },
  {
   "cell_type": "markdown",
   "id": "6c7b7f15-beea-4e9d-9307-0547e6ba3b30",
   "metadata": {},
   "source": [
    "## COPD Data and Health Risks Behaviors"
   ]
  },
  {
   "cell_type": "markdown",
   "id": "c8536fa8-f8ce-4a37-aecf-22fc0534a033",
   "metadata": {},
   "source": [
    "As mentioned in the introduction, the CDC data contains census tract level estimates of 27 disease measures for 500 major cities in the U.S, which totals about 3 million rows. After reading in the data, we need to significnatly trim down the dataset to the information we need: we are mainly interested in the prevalence of COPD as well as the number of adults with health risks behavior. "
   ]
  },
  {
   "cell_type": "code",
   "execution_count": null,
   "id": "48339e81-9c7d-407d-b183-688c739e7a87",
   "metadata": {},
   "outputs": [],
   "source": [
    "cdc_data = pd.read_csv(\"######\")"
   ]
  },
  {
   "cell_type": "markdown",
   "id": "ad05c9bc-b0ec-41ab-b5fd-a820c78d6c6c",
   "metadata": {},
   "source": [
    "According to CDC, they computed a probability among adults who report having ever been told by a doctor, nurse, or other health professional they had chronic obstructive pulmonary disease (COPD), emphysema, or chronic bronchitis. The probability was then applied to the detailed population estimates at the appropriate geographic level to generate the prevalence. More information can be found [here](https://www.cdc.gov/places/measure-definitions/health-outcomes.html).\n",
    "\n",
    "With the raw `cdc_data`, we select rows where *Measure* is either \"Current asthma among adults\" or \"Chronic obstructive pulmonary disease among adults,\" and the state abbreviation is \"PA\". The asthma and COPD subsets are then merged based on the common column LocationName (essentially the GEOID), using a left join to preserve all locations in the asthma data. The merged dataset is renamed to include clearer column labels, where Asthma represents asthma prevalence and COP represents COPD prevalence. "
   ]
  },
  {
   "cell_type": "code",
   "execution_count": null,
   "id": "a61db3e0-66f9-467a-bbd1-34ce614061f8",
   "metadata": {},
   "outputs": [],
   "source": [
    "# process CRD data\n",
    "PA_Asthma = cdc_data[(cdc_data['Measure'] == \"Current asthma among adults\") & (cdc_data['StateAbbr'] == \"PA\")]\n",
    "PA_COP = cdc_data[(cdc_data['Measure'] == \"Chronic obstructive pulmonary disease among adults\") & (cdc_data['StateAbbr'] == \"PA\")]\n",
    "PA_Chronic = PA_Asthma.merge(\n",
    "    PA_COP[['LocationName', 'Data_Value']],\n",
    "    on=\"LocationName\",\n",
    "    how=\"left\"\n",
    ").rename(columns={\"Data_Value_x\": \"Asthma\", \"Data_Value_y\": \"COP\"})"
   ]
  },
  {
   "cell_type": "markdown",
   "id": "c5629c4b-cc41-4c4b-8c45-4687e2d55bd9",
   "metadata": {},
   "source": [
    "This dataset is then exported to a new CSV file to hold our outcome variables. While we only intend to use COPD is the outcome variable, we also include asthma here in case we need it for further analysis. "
   ]
  },
  {
   "cell_type": "code",
   "execution_count": null,
   "id": "f15f9df0-9779-4a89-82ff-d2e72ca153af",
   "metadata": {},
   "outputs": [],
   "source": [
    "PA_Chronic.to_csv('######', index=False)"
   ]
  },
  {
   "cell_type": "markdown",
   "id": "a2298ba0-20c9-4bbf-943a-15bb6bb1c0a2",
   "metadata": {},
   "source": [
    "We then extract health risk behavior data from the same `cdc_data`. The PLACES Health Risk Behaviors data capture estimated prevalence for various U.S. adult behaviors that pose a risk to health, from **binge drinking to smoking, lack of physical inactivity, and short sleep duration**. Among those, binge drinking adults are those who report having ≥5 drinks (men) or ≥4 drinks (women) on ≥1 occasion during the previous 30 days. Smoking adults are those who report having smoked ≥ 100 cigarettes in their lifetime and currently smoke every day or some days. Lack of physical activity refers to adults having no leisure-time physical activity during the past month. Short sleep duration refers to those who have less than 7 hours of sleep. \n",
    "\n",
    "For more detailed explaination of each variable, you may refer to this [page](https://www.cdc.gov/places/measure-definitions/health-risk-behaviors.html).\n",
    "\n",
    "The code below extracts subsets for four specific health behaviors. Then, each subset is filtered for rows where the Measure matches the behavior and the StateAbbr is \"PA\". The subsets are sequentially merged on the common LocationName column using left joins, ensuring that all locations from the smoking data are preserved. The merged dataset, `PA_HRB`, contains columns for the prevalence of each behavior, renamed for clarity. "
   ]
  },
  {
   "cell_type": "code",
   "execution_count": null,
   "id": "41a7d24d-a1e4-48eb-86d7-7910c77a6957",
   "metadata": {},
   "outputs": [],
   "source": [
    "# process HRB data\n",
    "PA_Smoking = cdc_data[(cdc_data['Measure'] == \"Current cigarette smoking among adults\") & (cdc_data['StateAbbr'] == \"PA\")]\n",
    "PA_Drinking = cdc_data[(cdc_data['Measure'] == \"Binge drinking among adults\") & (cdc_data['StateAbbr'] == \"PA\")]\n",
    "PA_Physical_Activity = cdc_data[(cdc_data['Measure'] == \"No leisure-time physical activity among adults\") & (cdc_data['StateAbbr'] == \"PA\")]\n",
    "PA_Short_Sleep = cdc_data[(cdc_data['Measure'] == \"Short sleep duration among adults\") & (cdc_data['StateAbbr'] == \"PA\")]\n",
    "\n",
    "PA_HRB = PA_Smoking.merge(\n",
    "    PA_Drinking[['LocationName', 'Data_Value']], on='LocationName', how='left'\n",
    ").rename(columns={\"Data_Value_x\": \"Smoking\", \"Data_Value_y\": \"Drinking\"})\n",
    "\n",
    "PA_HRB = PA_HRB.merge(\n",
    "    PA_Physical_Activity[['LocationName', 'Data_Value']], on='LocationName', how='left'\n",
    ").rename(columns={'Data_Value': 'Physical_Activity'})\n",
    "\n",
    "PA_HRB = PA_HRB.merge(\n",
    "    PA_Short_Sleep[['LocationName', 'Data_Value']], on='LocationName', how='left'\n",
    ").rename(columns={'Data_Value': 'Short_Sleep'})\n",
    "PA_HRB[['LocationName', 'Smoking', 'Drinking', 'Physical_Activity', 'Short_Sleep']]"
   ]
  },
  {
   "cell_type": "markdown",
   "id": "d6cb5969-9bf9-4b6f-9fbb-24f5bc32dab8",
   "metadata": {},
   "source": [
    "This dataset is then exported to a new CSV file."
   ]
  },
  {
   "cell_type": "code",
   "execution_count": null,
   "id": "2fd7cb9c-d2d0-473b-aa99-4dcc4fafb8ce",
   "metadata": {},
   "outputs": [],
   "source": [
    "PA_HRB.to_csv('######', index=False)"
   ]
  },
  {
   "cell_type": "markdown",
   "id": "21c5a805-19e9-4fa4-9e5c-ffc48fa27f48",
   "metadata": {},
   "source": [
    "## Census Data"
   ]
  },
  {
   "cell_type": "markdown",
   "id": "c77dc2b0-c9cd-4a9e-a9db-f4f3f87f90fb",
   "metadata": {},
   "source": [
    "The code below connects to the Census Bureau’s ACS (American Community Survey) 5-Year Data (2022) using the `cenpy` package and specifies a set of variables to retrieve demographic, age-related, and disability-related characteristics. These include total population, race and ethnicity breakdowns (White, Black, Native American, Asian, and Hispanic populations), age distributions for individuals 65 years and older, and disability prevalence across various age and gender groups. By accessing these data, the project aims to understand the factors associated with public health outcomes, particularly COPD (Chronic Obstructive Pulmonary Disease)."
   ]
  },
  {
   "cell_type": "code",
   "execution_count": null,
   "id": "08d93442-5dc3-4232-ba98-097c98b72800",
   "metadata": {},
   "outputs": [],
   "source": [
    "acs = cenpy.remote.APIConnection(\"ACSDT5Y2022\")"
   ]
  },
  {
   "cell_type": "markdown",
   "id": "645b1894-d87b-4f94-8c50-d934eda2fcd8",
   "metadata": {},
   "source": [
    "Including these census variables is critical for analyzing COPD rates because the condition is influenced by demographic, social, and environmental factors. For example, COPD prevalence varies across racial and ethnic groups due to disparities in healthcare access, environmental exposures, and socioeconomic conditions, making it essential to include race and ethnicity data. Age distribution data is also vital since COPD predominantly affects older adults; understanding the size and characteristics of elderly populations helps identify at-risk groups. Additionally, disability prevalence provides insight into potential comorbidities and healthcare needs among populations with COPD, as individuals with disabilities often face heightened vulnerability to chronic conditions. By integrating these data, the project can explore correlations between COPD rates and demographic characteristics, identify vulnerable subpopulations, and inform targeted public health strategies. This comprehensive approach supports evidence-based decision-making to address health disparities and improve outcomes."
   ]
  },
  {
   "cell_type": "code",
   "execution_count": null,
   "id": "5a64b412-b433-48d6-b2b3-335db79aba52",
   "metadata": {},
   "outputs": [],
   "source": [
    "census_var = [\"NAME\",\n",
    "              \"B02001_001E\", # total\n",
    "              \"B02001_002E\", # white\n",
    "              \"B02001_003E\", # black\n",
    "              \"B02001_004E\", # native american\n",
    "              \"B02001_005E\", # asian\n",
    "              \"B03002_012E\", # hispanic\n",
    "              'B01001_020E', # male 65-66\n",
    "              'B01001_021E', # male 67-69\n",
    "              'B01001_022E', # male 70-74\n",
    "              'B01001_023E', # male 75-79\n",
    "              'B01001_024E', # male 80-84\n",
    "              'B01001_025E', # male over 85\n",
    "              'B01001_044E', # female 65-66\n",
    "              'B01001_045E', # female 67-69\n",
    "              'B01001_046E', # female 70-74\n",
    "              'B01001_047E', # female 75-79\n",
    "              'B01001_048E', # female 80-84\n",
    "              'B01001_049E', # female over 85\n",
    "              'B18101_007E', # Male 5 to 17 years With a disability\n",
    "              'B18101_010E', # Male 18 to 34 years With a disability\n",
    "              'B18101_013E', # Male 35 to 64 years With a disability\n",
    "              'B18101_016E', # Male 65 to 74 years With a disability\n",
    "              'B18101_019E', # Male over 75 years With a disability\n",
    "              'B18101_026E', # Female 5 to 17 years With a disability\n",
    "              'B18101_029E', # Female 18 to 34 years With a disability\n",
    "              'B18101_032E', # Female 35 to 64 years With a disability\n",
    "              'B18101_035E', # Female 65 to 74 years With a disability\n",
    "              'B18101_038E'\n",
    "             ]"
   ]
  },
  {
   "cell_type": "markdown",
   "id": "7315f773-2b19-4a4c-9991-b78b5115eaf5",
   "metadata": {},
   "source": [
    "After getting the data, we calculated the three indices we are interested in: **percentage of racial minority population, percentage of population with disability, and percentage of aging population.** Specifically, the minority column calculates the proportion of the population that identifies as a racial or ethnic minority. This is achieved by subtracting the White population `B02001_002E` from the total population `B02001_001E` and dividing by the total population. The aging column computes the proportion of elderly individuals aged 65 and older, using a sum of relevant age-specific population variables `B01001_020E` to `B01001_049E` divided by the total population. Similarly, the disability column calculates the proportion of the population with a disability, based on age and gender-specific disability data `B18101_007E` to `B18101_038E`."
   ]
  },
  {
   "cell_type": "code",
   "execution_count": null,
   "id": "46b10791-fcf1-4b30-a7c3-2f5c098fda5d",
   "metadata": {},
   "outputs": [],
   "source": [
    "pa_state_code = \"42\"\n",
    "census_data = acs.query(\n",
    "    cols=census_var,\n",
    "    geo_unit=\"tract\",\n",
    "    geo_filter={\"state\": pa_state_code}\n",
    ")\n",
    "for variable in census_var:\n",
    "    if variable != \"NAME\":\n",
    "        census_data[variable] = census_data[variable].astype(float)"
   ]
  },
  {
   "cell_type": "code",
   "execution_count": null,
   "id": "6c798bfc-c2e9-4d63-b57e-c67bb114320f",
   "metadata": {},
   "outputs": [],
   "source": [
    "census_data['minority'] = (\n",
    "    (census_data['B02001_001E'] - census_data['B02001_002E']) / census_data['B02001_001E']\n",
    ")\n",
    "census_data['aging'] = (\n",
    "    census_data[[\n",
    "        'B01001_020E', 'B01001_021E', 'B01001_022E', 'B01001_023E',\n",
    "        'B01001_024E', 'B01001_025E', 'B01001_044E', 'B01001_045E',\n",
    "        'B01001_046E', 'B01001_047E', 'B01001_048E', 'B01001_049E'\n",
    "    ]].sum(axis=1) / census_data['B02001_001E']\n",
    ")\n",
    "census_data['disability'] = (\n",
    "    census_data[[\n",
    "        'B18101_007E', 'B18101_010E', 'B18101_013E', 'B18101_016E',\n",
    "        'B18101_019E', 'B18101_026E', 'B18101_029E', 'B18101_032E',\n",
    "        'B18101_035E', 'B18101_038E'\n",
    "    ]].sum(axis=1) / census_data['B02001_001E']\n",
    ")"
   ]
  },
  {
   "cell_type": "markdown",
   "id": "c07b7697-6399-49da-b375-7b7dcc46fc79",
   "metadata": {},
   "source": [
    "The last step here simply merges demographic metrics with geographic boundaries at the tract level. Key variables, including minority representation, aging population, and disability prevalence, are filtered alongside geographic identifiers. The purpose is to append GEOID onto the dataframe, making it easier to work with later."
   ]
  },
  {
   "cell_type": "code",
   "execution_count": null,
   "id": "1ebe6533-2846-426f-99bd-345fc255ca11",
   "metadata": {},
   "outputs": [],
   "source": [
    "census_data = census_data[[\"NAME\", \"county\", \"tract\", \"minority\", \"aging\", \"disability\"]]\n",
    "tracts = pygris.tracts(state=pa_state_code, year=2022)\n",
    "pa_census_data = tracts.merge(census_data, left_on=[\"COUNTYFP\", \"TRACTCE\"], right_on=[\"county\", \"tract\"],)\n",
    "pa_census_data = pa_census_data[[\"GEOID\", \"minority\", \"aging\", \"disability\", \"geometry\"]]"
   ]
  },
  {
   "cell_type": "code",
   "execution_count": null,
   "id": "10f6054f-b1fa-4065-b78d-9e20272a3293",
   "metadata": {},
   "outputs": [],
   "source": [
    "pa_census_data.to_csv('######', index=False)"
   ]
  }
 ],
 "metadata": {
  "kernelspec": {
   "display_name": "Python 3 (ipykernel)",
   "language": "python",
   "name": "python3"
  },
  "language_info": {
   "codemirror_mode": {
    "name": "ipython",
    "version": 3
   },
   "file_extension": ".py",
   "mimetype": "text/x-python",
   "name": "python",
   "nbconvert_exporter": "python",
   "pygments_lexer": "ipython3",
   "version": "3.10.12"
  }
 },
 "nbformat": 4,
 "nbformat_minor": 5
}
